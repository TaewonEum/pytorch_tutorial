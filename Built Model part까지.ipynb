{
 "cells": [
  {
   "cell_type": "code",
   "execution_count": 1,
   "id": "ceee31fd-f54a-41fe-9c38-6e5ab8b99d3e",
   "metadata": {},
   "outputs": [],
   "source": [
    "#Dataset/Dataloader 실습"
   ]
  },
  {
   "cell_type": "code",
   "execution_count": 2,
   "id": "696a0d1a-2047-4421-83fb-920e34ad40b9",
   "metadata": {},
   "outputs": [],
   "source": [
    "#Dataset=data와 label저장\n",
    "#Dataloader=iterable한 객체로 감싸줘서 모델에 공급될 수 있도록 데이터 불러옴"
   ]
  },
  {
   "cell_type": "code",
   "execution_count": 3,
   "id": "ddb65452-e6c3-463c-9085-fce477824e70",
   "metadata": {},
   "outputs": [],
   "source": [
    "#library import\n",
    "\n",
    "import torch\n",
    "import torchvision.transforms as transforms"
   ]
  },
  {
   "cell_type": "code",
   "execution_count": 4,
   "id": "6b83289f-b312-4866-8b81-c4ef574a7ee6",
   "metadata": {},
   "outputs": [],
   "source": [
    "import torchvision"
   ]
  },
  {
   "cell_type": "code",
   "execution_count": 5,
   "id": "b096c0cc-2c38-4998-a472-a8a9fb30ee1b",
   "metadata": {},
   "outputs": [
    {
     "data": {
      "text/plain": [
       "<torch._C.Generator at 0x215d9268eb0>"
      ]
     },
     "execution_count": 5,
     "metadata": {},
     "output_type": "execute_result"
    }
   ],
   "source": [
    "# 고정\n",
    "torch.manual_seed(42)"
   ]
  },
  {
   "cell_type": "code",
   "execution_count": 6,
   "id": "83311b44-f7bd-40d2-b5d3-3f7984d177b7",
   "metadata": {},
   "outputs": [],
   "source": [
    "###########data Transform\n",
    "\n",
    "transform = transforms.Compose( \n",
    "    [transforms.ToTensor(), #이미지가 0~1사이 값으로 변경->파이토치를 사용해서 분석을 진행하기 위해서는 이미지를 텐서로 변환하여 모델에 적용\n",
    "     transforms.Normalize((0.5), (0.5))] #-1~1사이의 값으로 정규화 시킴 이미지마다 명도,채도등 다르기때문에 이미지를 동일한 환경에 맞춰줌 #channel이 한개이기 때문에 한개의 채널에만 적용\n",
    ")"
   ]
  },
  {
   "cell_type": "code",
   "execution_count": 7,
   "id": "8bdd8a58-0aad-4648-8de2-34d061748c6f",
   "metadata": {},
   "outputs": [],
   "source": [
    "##Dataset 저장\n",
    "\n",
    "train_data=torchvision.datasets.FashionMNIST(\n",
    "    root='./data',\n",
    "    train=True,\n",
    "    download=True,\n",
    "    transform=transform #tensor로 변환\n",
    ")\n",
    "\n",
    "test_data=torchvision.datasets.FashionMNIST(\n",
    "    root='./data',\n",
    "    train=False,\n",
    "    download=True,\n",
    "    transform=transform #tensor로 변환\n",
    ")"
   ]
  },
  {
   "cell_type": "code",
   "execution_count": 8,
   "id": "f5fa3cb7-4b3c-4191-bf95-4775d7424ec6",
   "metadata": {},
   "outputs": [],
   "source": [
    "##EDA\n",
    "import matplotlib.pyplot as plt"
   ]
  },
  {
   "cell_type": "code",
   "execution_count": 9,
   "id": "c4999dbd-3857-4182-96b4-76b1a93c7227",
   "metadata": {
    "collapsed": true,
    "jupyter": {
     "outputs_hidden": true
    },
    "tags": []
   },
   "outputs": [
    {
     "data": {
      "text/plain": [
       "['__add__',\n",
       " '__class__',\n",
       " '__class_getitem__',\n",
       " '__delattr__',\n",
       " '__dict__',\n",
       " '__dir__',\n",
       " '__doc__',\n",
       " '__eq__',\n",
       " '__format__',\n",
       " '__ge__',\n",
       " '__getattribute__',\n",
       " '__getitem__',\n",
       " '__gt__',\n",
       " '__hash__',\n",
       " '__init__',\n",
       " '__init_subclass__',\n",
       " '__le__',\n",
       " '__len__',\n",
       " '__lt__',\n",
       " '__module__',\n",
       " '__ne__',\n",
       " '__new__',\n",
       " '__orig_bases__',\n",
       " '__parameters__',\n",
       " '__reduce__',\n",
       " '__reduce_ex__',\n",
       " '__repr__',\n",
       " '__setattr__',\n",
       " '__sizeof__',\n",
       " '__slots__',\n",
       " '__str__',\n",
       " '__subclasshook__',\n",
       " '__weakref__',\n",
       " '_check_exists',\n",
       " '_check_legacy_exist',\n",
       " '_format_transform_repr',\n",
       " '_load_data',\n",
       " '_load_legacy_data',\n",
       " '_repr_indent',\n",
       " 'class_to_idx',\n",
       " 'classes',\n",
       " 'data',\n",
       " 'download',\n",
       " 'extra_repr',\n",
       " 'mirrors',\n",
       " 'processed_folder',\n",
       " 'raw_folder',\n",
       " 'resources',\n",
       " 'root',\n",
       " 'target_transform',\n",
       " 'targets',\n",
       " 'test_data',\n",
       " 'test_file',\n",
       " 'test_labels',\n",
       " 'train',\n",
       " 'train_data',\n",
       " 'train_labels',\n",
       " 'training_file',\n",
       " 'transform',\n",
       " 'transforms']"
      ]
     },
     "execution_count": 9,
     "metadata": {},
     "output_type": "execute_result"
    }
   ],
   "source": [
    "dir(train_data) #변수확인&매소드확인"
   ]
  },
  {
   "cell_type": "code",
   "execution_count": 10,
   "id": "258e3366-e59c-45aa-8689-88ad05eced7e",
   "metadata": {
    "collapsed": true,
    "jupyter": {
     "outputs_hidden": true
    },
    "tags": []
   },
   "outputs": [
    {
     "data": {
      "text/plain": [
       "(tensor([[[-1.0000, -1.0000, -1.0000, -1.0000, -1.0000, -1.0000, -1.0000,\n",
       "           -1.0000, -1.0000, -1.0000, -1.0000, -1.0000, -1.0000, -1.0000,\n",
       "           -1.0000, -1.0000, -1.0000, -1.0000, -1.0000, -1.0000, -1.0000,\n",
       "           -1.0000, -1.0000, -1.0000, -1.0000, -1.0000, -1.0000, -1.0000],\n",
       "          [-1.0000, -1.0000, -1.0000, -1.0000, -1.0000, -1.0000, -1.0000,\n",
       "           -1.0000, -1.0000, -1.0000, -1.0000, -1.0000, -1.0000, -1.0000,\n",
       "           -1.0000, -1.0000, -1.0000, -1.0000, -1.0000, -1.0000, -1.0000,\n",
       "           -1.0000, -1.0000, -1.0000, -1.0000, -1.0000, -1.0000, -1.0000],\n",
       "          [-1.0000, -1.0000, -1.0000, -1.0000, -1.0000, -1.0000, -1.0000,\n",
       "           -1.0000, -1.0000, -1.0000, -1.0000, -1.0000, -1.0000, -1.0000,\n",
       "           -1.0000, -1.0000, -1.0000, -1.0000, -1.0000, -1.0000, -1.0000,\n",
       "           -1.0000, -1.0000, -1.0000, -1.0000, -1.0000, -1.0000, -1.0000],\n",
       "          [-1.0000, -1.0000, -1.0000, -1.0000, -1.0000, -1.0000, -1.0000,\n",
       "           -1.0000, -1.0000, -1.0000, -1.0000, -1.0000, -0.9922, -1.0000,\n",
       "           -1.0000, -0.8980, -0.4275, -1.0000, -1.0000, -0.9922, -0.9686,\n",
       "           -1.0000, -1.0000, -1.0000, -1.0000, -0.9922, -0.9922, -1.0000],\n",
       "          [-1.0000, -1.0000, -1.0000, -1.0000, -1.0000, -1.0000, -1.0000,\n",
       "           -1.0000, -1.0000, -1.0000, -1.0000, -1.0000, -0.9765, -1.0000,\n",
       "           -0.7176,  0.0667, -0.0039, -0.5137, -0.5765, -1.0000, -1.0000,\n",
       "           -1.0000, -0.9922, -0.9765, -0.9686, -1.0000, -1.0000, -0.9765],\n",
       "          [-1.0000, -1.0000, -1.0000, -1.0000, -1.0000, -1.0000, -1.0000,\n",
       "           -1.0000, -1.0000, -1.0000, -1.0000, -1.0000, -0.9529, -1.0000,\n",
       "           -0.2000,  0.6000,  0.3804,  0.0510,  0.1294, -0.0353, -0.8196,\n",
       "           -1.0000, -1.0000, -1.0000, -1.0000, -0.9059, -0.9216, -1.0000],\n",
       "          [-1.0000, -1.0000, -1.0000, -1.0000, -1.0000, -1.0000, -1.0000,\n",
       "           -1.0000, -1.0000, -1.0000, -1.0000, -1.0000, -1.0000, -1.0000,\n",
       "            0.2157,  0.8510,  0.6235,  0.3961, -0.1608,  0.2235,  0.2627,\n",
       "           -0.1451, -0.4980, -0.8196, -0.3961,  0.0196, -0.4353, -0.8824],\n",
       "          [-1.0000, -1.0000, -1.0000, -1.0000, -1.0000, -1.0000, -1.0000,\n",
       "           -1.0000, -1.0000, -1.0000, -1.0000, -0.9922, -1.0000, -0.4588,\n",
       "            0.6235,  0.7490,  0.7098,  0.6941,  0.6941,  0.2784, -0.0039,\n",
       "           -0.0510, -0.0431,  0.1451,  0.1059, -0.3098,  0.3490, -0.4824],\n",
       "          [-1.0000, -1.0000, -1.0000, -1.0000, -1.0000, -1.0000, -1.0000,\n",
       "           -1.0000, -1.0000, -0.9922, -0.9922, -0.9922, -1.0000,  0.5686,\n",
       "            0.8196,  0.8196,  0.8275,  0.7961,  0.7490,  0.7490,  0.6863,\n",
       "            0.6706,  0.2863, -0.0039, -0.0353,  0.5373,  0.7961, -1.0000],\n",
       "          [-1.0000, -1.0000, -1.0000, -1.0000, -1.0000, -1.0000, -1.0000,\n",
       "           -1.0000, -1.0000, -1.0000, -1.0000, -1.0000, -1.0000,  0.4353,\n",
       "            0.7647,  0.6941,  0.7490,  0.7882,  0.8431,  0.7804,  0.7569,\n",
       "            0.7412,  0.7569,  0.7333,  0.7490,  0.9216,  0.3569, -1.0000],\n",
       "          [-1.0000, -1.0000, -1.0000, -1.0000, -1.0000, -1.0000, -1.0000,\n",
       "           -1.0000, -1.0000, -1.0000, -1.0000, -1.0000, -1.0000,  0.5137,\n",
       "            0.7882,  0.7098,  0.6706,  0.5529,  0.4118,  0.6627,  0.6471,\n",
       "            0.6549,  0.6706,  0.7490,  0.7255,  0.9059,  0.5843, -1.0000],\n",
       "          [-1.0000, -1.0000, -1.0000, -1.0000, -1.0000, -1.0000, -1.0000,\n",
       "           -1.0000, -1.0000, -0.9922, -0.9765, -1.0000, -0.9059,  0.7176,\n",
       "            0.7255,  0.6627,  0.7098,  0.5059,  0.3255,  0.7804,  0.6314,\n",
       "            0.7098,  0.7569,  0.6627,  0.7725,  0.5451,  0.6392, -0.5922],\n",
       "          [-1.0000, -1.0000, -1.0000, -1.0000, -1.0000, -1.0000, -1.0000,\n",
       "           -1.0000, -1.0000, -1.0000, -0.9529, -1.0000, -0.2235,  0.9137,\n",
       "            0.7412,  0.7255,  0.7098,  0.5922,  0.5529,  0.7333,  0.6863,\n",
       "            0.6706,  0.7412,  0.7255,  0.9216, -0.0667,  0.3098, -0.5608],\n",
       "          [-1.0000, -1.0000, -1.0000, -1.0000, -1.0000, -1.0000, -1.0000,\n",
       "           -1.0000, -1.0000, -0.9686, -1.0000, -1.0000, -0.5686,  0.8510,\n",
       "            0.7882,  0.8039,  0.7882,  0.8824,  0.8196,  0.6706,  0.7098,\n",
       "            0.7490,  0.8353,  0.7020,  0.7020,  0.6392, -0.2784, -1.0000],\n",
       "          [-1.0000, -1.0000, -0.9922, -0.9686, -0.9529, -0.9451, -0.9843,\n",
       "           -1.0000, -1.0000, -1.0000, -1.0000, -1.0000,  0.8588,  0.7725,\n",
       "            0.7020,  0.7490,  0.7412,  0.7176,  0.7412,  0.7333,  0.6941,\n",
       "            0.7490,  0.7961,  0.6863,  0.7098,  1.0000, -0.3961, -1.0000],\n",
       "          [-1.0000, -0.9765, -1.0000, -1.0000, -1.0000, -1.0000, -1.0000,\n",
       "           -1.0000, -1.0000, -0.5137,  0.1373,  0.6000,  0.7882,  0.6235,\n",
       "            0.6706,  0.7333,  0.7098,  0.6314,  0.6549,  0.7098,  0.7569,\n",
       "            0.7490,  0.7176,  0.6863,  0.7569,  0.9137,  0.2471, -1.0000],\n",
       "          [-1.0000, -1.0000, -1.0000, -1.0000, -0.8588, -0.6549, -0.3569,\n",
       "           -0.1608,  0.4824,  0.7882,  0.7255,  0.7412,  0.7020,  0.7725,\n",
       "            0.5686,  0.6078,  0.6549,  0.8039,  0.7569,  0.8353,  0.3804,\n",
       "            0.4745,  0.9608,  0.9451,  0.8275,  0.8667,  0.6863, -1.0000],\n",
       "          [-1.0000, -0.5529,  0.4667,  0.6314,  0.7569,  0.7333,  0.7569,\n",
       "            0.6314,  0.6000,  0.6784,  0.6314,  0.6392,  0.5686,  0.2471,\n",
       "            0.9216,  0.5137,  0.6157,  0.7490,  1.0000,  1.0000,  0.7333,\n",
       "            0.8353,  0.7333,  0.6549,  0.7255,  0.8196,  0.9294, -1.0000],\n",
       "          [-0.9765,  0.5843,  0.7882,  0.7569,  0.7333,  0.6549,  0.6549,\n",
       "            0.6784,  0.6078,  0.6078,  0.6078,  0.7255,  0.8824, -0.3725,\n",
       "            0.1765,  1.0000,  0.7961,  0.7333,  0.4745,  0.2078,  0.4980,\n",
       "            0.6471,  0.6000,  0.6392,  0.7412,  0.7882,  0.7647, -1.0000],\n",
       "          [-0.2314,  0.8275,  0.5529,  0.6471,  0.7412,  0.7961,  0.7961,\n",
       "            0.8353,  0.9529,  0.7255,  0.5216,  0.6863,  0.7020,  0.8902,\n",
       "           -0.4902, -0.4275, -0.1686, -0.0824,  0.3176,  0.7176,  0.7333,\n",
       "            0.6863,  0.7020,  0.7490,  0.7490,  0.7569,  0.7961, -0.7725],\n",
       "          [-0.4118,  0.6000,  0.6627,  0.6000,  0.5137,  0.6078,  0.6549,\n",
       "            0.7647,  0.6941,  0.4510,  0.5451,  0.6157,  0.5529,  0.6706,\n",
       "            0.8824,  0.5294,  0.7804,  0.9216,  0.8745,  0.7490,  0.7098,\n",
       "            0.6627,  0.6392,  0.7412,  0.7255,  0.7333,  0.8039, -0.4745],\n",
       "          [-0.6235,  0.5922,  0.4353,  0.5216,  0.6706,  0.5451,  0.4510,\n",
       "            0.4902,  0.5216,  0.5059,  0.5843,  0.6784,  0.7176,  0.7333,\n",
       "            0.7255,  0.8510,  0.7647,  0.6941,  0.5608,  0.6157,  0.4588,\n",
       "            0.4196,  0.3882,  0.3490,  0.4196,  0.6078,  0.6157, -0.0980],\n",
       "          [-1.0000, -0.0431,  0.7176,  0.5137,  0.4039,  0.3412,  0.4353,\n",
       "            0.5373,  0.6000,  0.6471,  0.6706,  0.6235,  0.6549,  0.6471,\n",
       "            0.5686,  0.5373,  0.5216,  0.4980,  0.5294,  0.4980,  0.5529,\n",
       "            0.5059,  0.3804,  0.2235,  0.3098,  0.3882,  0.6471, -0.2784],\n",
       "          [-1.0000, -1.0000, -0.4196,  0.4824,  0.6627,  0.4980,  0.3725,\n",
       "            0.3490,  0.3725,  0.4196,  0.4510,  0.4745,  0.4824,  0.4745,\n",
       "            0.5137,  0.5529,  0.6000,  0.6392,  0.6471,  0.6471,  0.6549,\n",
       "            0.4745,  0.4745,  0.5216,  0.5059,  0.6941,  0.3333, -1.0000],\n",
       "          [-0.9843, -1.0000, -1.0000, -1.0000, -0.4824,  0.5686,  0.7412,\n",
       "            0.8588,  0.8745,  0.8980,  0.9294,  0.9059,  0.9137,  0.7333,\n",
       "            0.7255,  0.5137,  0.4980,  0.4039,  0.4275,  0.4275,  0.4196,\n",
       "            0.3804,  0.3020,  0.3176, -0.2235, -0.5451, -1.0000, -1.0000],\n",
       "          [-1.0000, -1.0000, -1.0000, -1.0000, -1.0000, -1.0000, -1.0000,\n",
       "           -0.6863, -0.5216, -0.6549, -0.4353, -0.6784, -0.7255, -1.0000,\n",
       "           -1.0000, -1.0000, -1.0000, -1.0000, -1.0000, -1.0000, -1.0000,\n",
       "           -1.0000, -1.0000, -1.0000, -1.0000, -1.0000, -1.0000, -1.0000],\n",
       "          [-1.0000, -1.0000, -1.0000, -1.0000, -1.0000, -1.0000, -1.0000,\n",
       "           -1.0000, -1.0000, -1.0000, -1.0000, -1.0000, -1.0000, -1.0000,\n",
       "           -1.0000, -1.0000, -1.0000, -1.0000, -1.0000, -1.0000, -1.0000,\n",
       "           -1.0000, -1.0000, -1.0000, -1.0000, -1.0000, -1.0000, -1.0000],\n",
       "          [-1.0000, -1.0000, -1.0000, -1.0000, -1.0000, -1.0000, -1.0000,\n",
       "           -1.0000, -1.0000, -1.0000, -1.0000, -1.0000, -1.0000, -1.0000,\n",
       "           -1.0000, -1.0000, -1.0000, -1.0000, -1.0000, -1.0000, -1.0000,\n",
       "           -1.0000, -1.0000, -1.0000, -1.0000, -1.0000, -1.0000, -1.0000]]]),\n",
       " 9)"
      ]
     },
     "execution_count": 10,
     "metadata": {},
     "output_type": "execute_result"
    }
   ],
   "source": [
    "train_data[0]"
   ]
  },
  {
   "cell_type": "code",
   "execution_count": 11,
   "id": "c9d71cb4-2fca-4872-abc1-4286cecd554e",
   "metadata": {},
   "outputs": [
    {
     "name": "stdout",
     "output_type": "stream",
     "text": [
      "['T-shirt/top', 'Trouser', 'Pullover', 'Dress', 'Coat', 'Sandal', 'Shirt', 'Sneaker', 'Bag', 'Ankle boot']\n",
      "<class 'torchvision.datasets.mnist.FashionMNIST'>\n",
      "tensor([  0,   0,   0,   1,   0,   0,   0,  49, 136, 219, 216, 228, 236, 255,\n",
      "        255, 255, 255, 217, 215, 254, 231, 160,  45,   0,   0,   0,   0,   0],\n",
      "       dtype=torch.uint8)\n",
      "torch.Size([60000, 28, 28])\n"
     ]
    }
   ],
   "source": [
    "#train data\n",
    "print(train_data.classes) #클래스확인\n",
    "print(type(train_data))\n",
    "print(train_data.data[1,1])\n",
    "print(train_data.data.size()) #train set은 6만개의 28x28사이즈 이미지로 구성됨"
   ]
  },
  {
   "cell_type": "code",
   "execution_count": 12,
   "id": "c32f6e2f-3a07-4140-bc25-add3b19ad94e",
   "metadata": {},
   "outputs": [
    {
     "data": {
      "text/plain": [
       "'T-shirt/top'"
      ]
     },
     "execution_count": 12,
     "metadata": {},
     "output_type": "execute_result"
    }
   ],
   "source": [
    "trainclass=train_data.classes\n",
    "trainclass[0]"
   ]
  },
  {
   "cell_type": "code",
   "execution_count": 13,
   "id": "60b4eacb-31cf-423d-b249-da84d68d9af4",
   "metadata": {},
   "outputs": [
    {
     "name": "stdout",
     "output_type": "stream",
     "text": [
      "{0: 'T-shirt/top', 1: 'Trouser', 2: 'Pullover', 3: 'Dress', 4: 'Coat', 5: 'Sandal', 6: 'Shirt', 7: 'Sneaker', 8: 'Bag', 9: 'Ankle boot'}\n",
      "T-shirt/top\n"
     ]
    }
   ],
   "source": [
    "#Data EDA\n",
    "#class dictionary\n",
    "labels_map={\n",
    "    0: trainclass[0],\n",
    "    1: trainclass[1],\n",
    "    2: trainclass[2],\n",
    "    3: trainclass[3],\n",
    "    4: trainclass[4],\n",
    "    5: trainclass[5],\n",
    "    6: trainclass[6],\n",
    "    7: trainclass[7],\n",
    "    8: trainclass[8],\n",
    "    9: trainclass[9],\n",
    "}\n",
    "\n",
    "print(labels_map)\n",
    "print(labels_map[0])"
   ]
  },
  {
   "cell_type": "code",
   "execution_count": 14,
   "id": "e5536794-8aed-4e36-acfa-60dc0ad74bae",
   "metadata": {},
   "outputs": [
    {
     "data": {
      "image/png": "[encoded data removed]",
      "text/plain": [
       "<Figure size 720x720 with 9 Axes>"
      ]
     },
     "metadata": {
      "needs_background": "light"
     },
     "output_type": "display_data"
    }
   ],
   "source": [
    "figure=plt.figure(figsize=(10,10)) #plt.figure()는 새로운 figure를 생성해준다\n",
    "\n",
    "cols, rows= 3,3\n",
    "\n",
    "for i in range(1,cols*rows+1):\n",
    "    sample_idx=torch.randint(len(train_data),size=(1,)).item() #1~60000중 랜덤숫자 추출\n",
    "    img, label= train_data[sample_idx] #첫번째 텐서값을 이미지, 두번째 정수값을->라벨값으로\n",
    "    figure.add_subplot(rows,cols,i) #figure.add_subplot(3,3,1),,,figure.add_subplot(3,3,9) 순서대로 이미지 나타내줌 key, value값\n",
    "    plt.title(labels_map[label]) #해당라벨에대해서 label_map dic에서 텍스트값 추출\n",
    "    plt.axis('off') #axis제거\n",
    "    plt.imshow(img.squeeze(),cmap='gray') #squeeze->차원이 1인 차원을 제거해줌, cmap='이미지컬러' ex) x=torch.ones(10,5,1,3,1)->x.squeeze()->torch.ones(10,5,3)으로 바꿔줌 바꿔주는 이유는? 차원을 축소하여 그래프를 알맞게 그리기 위함.\n",
    "plt.show()"
   ]
  },
  {
   "cell_type": "code",
   "execution_count": 15,
   "id": "116a864c-cbca-4e60-aaa7-df6dd7a97b78",
   "metadata": {},
   "outputs": [
    {
     "name": "stdout",
     "output_type": "stream",
     "text": [
      "['T-shirt/top', 'Trouser', 'Pullover', 'Dress', 'Coat', 'Sandal', 'Shirt', 'Sneaker', 'Bag', 'Ankle boot']\n",
      "<class 'torchvision.datasets.mnist.FashionMNIST'>\n",
      "tensor([  0,   0,   0,   0,   0,   0,   0,   8, 120, 209, 226, 247, 237, 255,\n",
      "        255, 255, 247, 238, 235, 172,  72,   0,   0,   0,   0,   0,   0,   0],\n",
      "       dtype=torch.uint8)\n",
      "torch.Size([10000, 28, 28])\n"
     ]
    }
   ],
   "source": [
    "##test data\n",
    "print(test_data.classes) #클래스확인\n",
    "print(type(test_data))\n",
    "print(test_data.data[1,1])\n",
    "print(test_data.data.size()) #train set은 6만개의 28x28사이즈 이미지로 구성됨"
   ]
  },
  {
   "cell_type": "code",
   "execution_count": 16,
   "id": "54bf17f9-2ee7-4065-9eae-122d1e3636ff",
   "metadata": {},
   "outputs": [
    {
     "data": {
      "text/plain": [
       "{'Ankle boot': 6000,\n",
       " 'T-shirt/top': 6000,\n",
       " 'Dress': 6000,\n",
       " 'Pullover': 6000,\n",
       " 'Sneaker': 6000,\n",
       " 'Sandal': 6000,\n",
       " 'Trouser': 6000,\n",
       " 'Shirt': 6000,\n",
       " 'Coat': 6000,\n",
       " 'Bag': 6000}"
      ]
     },
     "execution_count": 16,
     "metadata": {},
     "output_type": "execute_result"
    }
   ],
   "source": [
    "##################train test class별 개수 구하기\n",
    "\n",
    "train_class_count=dict()\n",
    "\n",
    "\n",
    "for train_item in train_data:\n",
    "    label=train_data.classes[train_item[1]] #차례대로 첫번째부터 라벨값 추출\n",
    "    if label not in train_class_count: #\n",
    "        train_class_count[label]=1\n",
    "    else:\n",
    "        train_class_count[label] +=1\n",
    "        \n",
    "train_class_count"
   ]
  },
  {
   "cell_type": "code",
   "execution_count": 17,
   "id": "31c55b25-99b8-4997-8b97-d55d7f0050c3",
   "metadata": {},
   "outputs": [
    {
     "data": {
      "text/plain": [
       "{'Ankle boot': 1000,\n",
       " 'Pullover': 1000,\n",
       " 'Trouser': 1000,\n",
       " 'Shirt': 1000,\n",
       " 'Coat': 1000,\n",
       " 'Sandal': 1000,\n",
       " 'Sneaker': 1000,\n",
       " 'Dress': 1000,\n",
       " 'Bag': 1000,\n",
       " 'T-shirt/top': 1000}"
      ]
     },
     "execution_count": 17,
     "metadata": {},
     "output_type": "execute_result"
    }
   ],
   "source": [
    "##################train test class별 개수 구하기\n",
    "\n",
    "test_class_count=dict()\n",
    "\n",
    "\n",
    "for test_item in test_data:\n",
    "    label=test_data.classes[test_item[1]] #차례대로 첫번째부터 라벨값 추출\n",
    "    if label not in test_class_count: #\n",
    "        test_class_count[label]=1\n",
    "    else:\n",
    "        test_class_count[label] +=1\n",
    "        \n",
    "test_class_count"
   ]
  },
  {
   "cell_type": "code",
   "execution_count": 18,
   "id": "267c4a53-d9ce-4260-8c0b-e3767d30bf7f",
   "metadata": {},
   "outputs": [
    {
     "data": {
      "text/plain": [
       "'\\ntrain data-> class별로 6000개\\ntest data-> class별로 1000개\\n'"
      ]
     },
     "execution_count": 18,
     "metadata": {},
     "output_type": "execute_result"
    }
   ],
   "source": [
    "'''\n",
    "train data-> class별로 6000개\n",
    "test data-> class별로 1000개\n",
    "'''"
   ]
  },
  {
   "cell_type": "code",
   "execution_count": 19,
   "id": "9103b536-a550-48c4-8855-945aefd1b808",
   "metadata": {},
   "outputs": [],
   "source": [
    "#DATA LOADER"
   ]
  },
  {
   "cell_type": "code",
   "execution_count": 20,
   "id": "f8d33435-0eda-4432-8df7-3f3bad51eccc",
   "metadata": {},
   "outputs": [],
   "source": [
    "trainloader = torch.utils.data.DataLoader(train_data, batch_size=64, shuffle=True, num_workers=2) \n",
    "testloader = torch.utils.data.DataLoader(test_data, batch_size=64, shuffle=False, num_workers=2) "
   ]
  },
  {
   "cell_type": "code",
   "execution_count": 74,
   "id": "239e78c9-0815-4d90-8614-66a8a40ae398",
   "metadata": {},
   "outputs": [
    {
     "data": {
      "text/plain": [
       "Dataset FashionMNIST\n",
       "    Number of datapoints: 60000\n",
       "    Root location: ./data\n",
       "    Split: Train\n",
       "    StandardTransform\n",
       "Transform: Compose(\n",
       "               ToTensor()\n",
       "               Normalize(mean=0.5, std=0.5)\n",
       "           )"
      ]
     },
     "execution_count": 74,
     "metadata": {},
     "output_type": "execute_result"
    }
   ],
   "source": [
    "trainloader.dataset"
   ]
  },
  {
   "cell_type": "code",
   "execution_count": 80,
   "id": "803167e8-083a-4af1-bd1e-4c7e75aee040",
   "metadata": {},
   "outputs": [
    {
     "data": {
      "text/plain": [
       "Dataset FashionMNIST\n",
       "    Number of datapoints: 10000\n",
       "    Root location: ./data\n",
       "    Split: Test\n",
       "    StandardTransform\n",
       "Transform: Compose(\n",
       "               ToTensor()\n",
       "               Normalize(mean=0.5, std=0.5)\n",
       "           )"
      ]
     },
     "execution_count": 80,
     "metadata": {},
     "output_type": "execute_result"
    }
   ],
   "source": [
    "testloader.dataset"
   ]
  },
  {
   "cell_type": "code",
   "execution_count": 24,
   "id": "62b1c73f-416c-4d9a-9ad5-27fba384346e",
   "metadata": {
    "collapsed": true,
    "jupyter": {
     "outputs_hidden": true
    },
    "tags": []
   },
   "outputs": [
    {
     "name": "stdout",
     "output_type": "stream",
     "text": [
      "tensor([[[[-1., -1., -1.,  ..., -1., -1., -1.],\n",
      "          [-1., -1., -1.,  ..., -1., -1., -1.],\n",
      "          [-1., -1., -1.,  ..., -1., -1., -1.],\n",
      "          ...,\n",
      "          [-1., -1., -1.,  ..., -1., -1., -1.],\n",
      "          [-1., -1., -1.,  ..., -1., -1., -1.],\n",
      "          [-1., -1., -1.,  ..., -1., -1., -1.]]],\n",
      "\n",
      "\n",
      "        [[[-1., -1., -1.,  ..., -1., -1., -1.],\n",
      "          [-1., -1., -1.,  ..., -1., -1., -1.],\n",
      "          [-1., -1., -1.,  ..., -1., -1., -1.],\n",
      "          ...,\n",
      "          [-1., -1., -1.,  ..., -1., -1., -1.],\n",
      "          [-1., -1., -1.,  ..., -1., -1., -1.],\n",
      "          [-1., -1., -1.,  ..., -1., -1., -1.]]],\n",
      "\n",
      "\n",
      "        [[[-1., -1., -1.,  ..., -1., -1., -1.],\n",
      "          [-1., -1., -1.,  ..., -1., -1., -1.],\n",
      "          [-1., -1., -1.,  ..., -1., -1., -1.],\n",
      "          ...,\n",
      "          [-1., -1., -1.,  ..., -1., -1., -1.],\n",
      "          [-1., -1., -1.,  ..., -1., -1., -1.],\n",
      "          [-1., -1., -1.,  ..., -1., -1., -1.]]],\n",
      "\n",
      "\n",
      "        ...,\n",
      "\n",
      "\n",
      "        [[[-1., -1., -1.,  ..., -1., -1., -1.],\n",
      "          [-1., -1., -1.,  ..., -1., -1., -1.],\n",
      "          [-1., -1., -1.,  ..., -1., -1., -1.],\n",
      "          ...,\n",
      "          [-1., -1., -1.,  ..., -1., -1., -1.],\n",
      "          [-1., -1., -1.,  ..., -1., -1., -1.],\n",
      "          [-1., -1., -1.,  ..., -1., -1., -1.]]],\n",
      "\n",
      "\n",
      "        [[[-1., -1., -1.,  ..., -1., -1., -1.],\n",
      "          [-1., -1., -1.,  ..., -1., -1., -1.],\n",
      "          [-1., -1., -1.,  ..., -1., -1., -1.],\n",
      "          ...,\n",
      "          [-1., -1., -1.,  ..., -1., -1., -1.],\n",
      "          [-1., -1., -1.,  ..., -1., -1., -1.],\n",
      "          [-1., -1., -1.,  ..., -1., -1., -1.]]],\n",
      "\n",
      "\n",
      "        [[[-1., -1., -1.,  ..., -1., -1., -1.],\n",
      "          [-1., -1., -1.,  ..., -1., -1., -1.],\n",
      "          [-1., -1., -1.,  ..., -1., -1., -1.],\n",
      "          ...,\n",
      "          [-1., -1., -1.,  ..., -1., -1., -1.],\n",
      "          [-1., -1., -1.,  ..., -1., -1., -1.],\n",
      "          [-1., -1., -1.,  ..., -1., -1., -1.]]]])\n",
      "tensor([9, 3, 9, 1, 5, 5, 2, 5, 8, 2, 3, 8, 1, 1, 5, 8, 8, 8, 5, 9, 7, 8, 9, 4,\n",
      "        9, 6, 5, 8, 7, 2, 4, 6, 8, 9, 5, 3, 3, 5, 2, 4, 4, 6, 5, 5, 3, 8, 0, 1,\n",
      "        5, 5, 8, 7, 6, 0, 8, 7, 1, 3, 1, 4, 8, 0, 8, 7])\n"
     ]
    }
   ],
   "source": [
    "#Dataloader EDA\n",
    "#DataLoader를 통해 반복하기->이미지, 라벨 뽑아내기 EDA\n",
    "#이미지와 라벨값을 표시\n",
    "\n",
    "train_images, train_labels = next(iter(trainloader))\n",
    "print(train_images)\n",
    "print(train_labels)\n",
    "###batch size-> 64개에 대한 텐서값, 라벨값 추출"
   ]
  },
  {
   "cell_type": "code",
   "execution_count": 25,
   "id": "a32cc4f3-55f3-433c-87b2-7f8bdc04bd11",
   "metadata": {
    "collapsed": true,
    "jupyter": {
     "outputs_hidden": true
    },
    "tags": []
   },
   "outputs": [
    {
     "name": "stdout",
     "output_type": "stream",
     "text": [
      "Feature batch shape: torch.Size([64, 1, 28, 28])\n",
      "Labels batch shape: torch.Size([64])\n",
      "tensor([[-1.0000, -1.0000, -1.0000, -1.0000, -1.0000, -1.0000, -1.0000, -1.0000,\n",
      "         -1.0000, -1.0000, -1.0000, -1.0000, -1.0000, -1.0000, -1.0000, -1.0000,\n",
      "         -1.0000, -1.0000, -1.0000, -1.0000, -1.0000, -1.0000, -1.0000, -1.0000,\n",
      "         -1.0000, -1.0000, -1.0000, -1.0000],\n",
      "        [-1.0000, -1.0000, -1.0000, -1.0000, -1.0000, -1.0000, -1.0000, -1.0000,\n",
      "         -1.0000, -1.0000, -1.0000, -1.0000, -1.0000, -1.0000, -1.0000, -1.0000,\n",
      "         -1.0000, -1.0000, -1.0000, -1.0000, -1.0000, -1.0000, -1.0000, -1.0000,\n",
      "         -1.0000, -1.0000, -1.0000, -1.0000],\n",
      "        [-1.0000, -1.0000, -1.0000, -1.0000, -1.0000, -1.0000, -1.0000, -1.0000,\n",
      "         -1.0000, -1.0000, -1.0000, -1.0000, -1.0000, -1.0000, -1.0000, -1.0000,\n",
      "         -1.0000, -1.0000, -1.0000, -1.0000, -1.0000, -1.0000, -1.0000, -1.0000,\n",
      "         -1.0000, -1.0000, -1.0000, -1.0000],\n",
      "        [-1.0000, -1.0000, -1.0000, -1.0000, -1.0000, -1.0000, -1.0000, -1.0000,\n",
      "         -1.0000, -1.0000, -1.0000, -1.0000, -1.0000, -1.0000, -1.0000, -1.0000,\n",
      "         -1.0000, -1.0000, -1.0000, -1.0000, -0.3882,  0.1843,  0.4353,  0.7098,\n",
      "          0.5765,  0.4667, -0.9059, -1.0000],\n",
      "        [-1.0000, -1.0000, -1.0000, -1.0000, -1.0000, -1.0000, -1.0000, -1.0000,\n",
      "         -1.0000, -1.0000, -1.0000, -0.9922, -1.0000, -0.9373, -0.5216,  0.2157,\n",
      "          0.4745,  0.2863,  0.4431,  0.7569,  1.0000,  0.7333,  0.4980,  0.5529,\n",
      "          0.6784,  0.8039, -0.4588, -1.0000],\n",
      "        [-1.0000, -1.0000, -1.0000, -1.0000, -1.0000, -1.0000, -1.0000, -1.0000,\n",
      "         -1.0000, -1.0000, -1.0000, -0.9765, -1.0000,  0.2157,  0.6392,  0.6314,\n",
      "          0.6863,  0.7098,  0.6941,  0.6549,  0.7176,  0.5294,  0.5843,  0.7647,\n",
      "          0.7569,  0.7333, -0.5529, -1.0000],\n",
      "        [-1.0000, -1.0000, -1.0000, -1.0000, -1.0000, -1.0000, -1.0000, -1.0000,\n",
      "         -1.0000, -1.0000, -1.0000, -0.9686, -1.0000,  0.0980,  0.5451,  0.4431,\n",
      "          0.5294,  0.5843,  0.4824,  0.5529,  0.6549,  0.7333,  0.6941,  0.6157,\n",
      "          0.6314,  0.5686, -0.8980, -1.0000],\n",
      "        [-1.0000, -1.0000, -1.0000, -1.0000, -1.0000, -1.0000, -1.0000, -1.0000,\n",
      "         -1.0000, -1.0000, -0.9922, -0.9608, -1.0000,  0.0196,  0.4902,  0.4353,\n",
      "          0.4745,  0.6471,  0.7020,  0.7333,  0.7176,  0.6000,  0.5843,  0.5294,\n",
      "          0.6078,  0.5373, -0.8902, -1.0000],\n",
      "        [-1.0000, -1.0000, -1.0000, -1.0000, -1.0000, -1.0000, -1.0000, -1.0000,\n",
      "         -1.0000, -1.0000, -1.0000, -0.9608, -1.0000, -0.3647,  0.4824,  0.4588,\n",
      "          0.6627,  0.6392,  0.7098,  0.7098,  0.6784,  0.6235,  0.6235,  0.6235,\n",
      "          0.6627,  0.5294, -0.9922, -1.0000],\n",
      "        [-1.0000, -1.0000, -1.0000, -1.0000, -1.0000, -1.0000, -1.0000, -1.0000,\n",
      "         -1.0000, -1.0000, -1.0000, -0.9608, -1.0000, -0.8745,  0.6941,  0.3961,\n",
      "          0.2314,  0.4275,  0.6863,  0.7647,  0.6784,  0.5137,  0.4902,  0.5451,\n",
      "          0.6314,  0.7882, -1.0000, -1.0000],\n",
      "        [-1.0000, -1.0000, -1.0000, -1.0000, -1.0000, -1.0000, -1.0000, -1.0000,\n",
      "         -1.0000, -1.0000, -1.0000, -0.9765, -1.0000, -0.8980,  0.8431,  0.5843,\n",
      "          0.4745,  0.5686,  0.7255,  0.7647,  0.6863,  0.6235,  0.6000,  0.6000,\n",
      "          0.6157,  0.7333, -1.0000, -1.0000],\n",
      "        [-1.0000, -1.0000, -1.0000, -1.0000, -1.0000, -1.0000, -1.0000, -1.0000,\n",
      "         -0.9922, -1.0000, -1.0000, -1.0000, -1.0000, -1.0000,  0.0902,  0.3961,\n",
      "          0.4824,  0.7020,  0.7176,  0.6706,  0.5765,  0.5608,  0.6000,  0.6235,\n",
      "          0.6000,  0.8196, -0.9843, -1.0000],\n",
      "        [-1.0000, -1.0000, -1.0000, -1.0000, -1.0000, -1.0000, -1.0000, -0.9922,\n",
      "         -1.0000, -1.0000, -1.0000, -0.9843, -1.0000, -1.0000,  0.5294,  0.3255,\n",
      "          0.3333,  0.6157,  0.6549,  0.6627,  0.6000,  0.6000,  0.6078,  0.5373,\n",
      "          0.5608,  0.6078, -0.8431, -1.0000],\n",
      "        [-1.0000, -1.0000, -1.0000, -1.0000, -1.0000, -1.0000, -1.0000, -1.0000,\n",
      "         -1.0000, -1.0000, -1.0000, -1.0000, -1.0000, -0.6549,  0.8196,  0.6706,\n",
      "          0.5843,  0.6314,  0.6549,  0.6784,  0.6392,  0.6549,  0.6392,  0.6235,\n",
      "          0.5922,  0.6471, -0.5922, -1.0000],\n",
      "        [-1.0000, -1.0000, -0.9922, -1.0000, -1.0000, -1.0000, -1.0000, -1.0000,\n",
      "         -1.0000, -1.0000, -0.9765, -1.0000, -1.0000,  0.3725,  0.4745,  0.3020,\n",
      "          0.4980,  0.6235,  0.6627,  0.6941,  0.6471,  0.6549,  0.6706,  0.6392,\n",
      "          0.6784,  0.7725, -0.3412, -1.0000],\n",
      "        [-1.0000, -0.9922, -1.0000, -1.0000, -1.0000, -1.0000, -1.0000, -1.0000,\n",
      "         -1.0000, -0.9529, -1.0000, -1.0000, -0.0353,  0.3882,  0.4588,  0.5922,\n",
      "          0.6706,  0.6078,  0.6314,  0.6706,  0.6392,  0.6549,  0.6941,  0.8196,\n",
      "          0.8039,  0.8667,  0.0667, -1.0000],\n",
      "        [-1.0000, -0.9765, -0.9451, -0.9608, -0.9608, -0.9686, -0.9686, -0.9765,\n",
      "         -0.9373, -1.0000, -1.0000,  0.2549,  0.7804,  0.5765,  0.4196,  0.4667,\n",
      "          0.6706,  0.5608,  0.6157,  0.7098,  0.7176,  0.7647,  0.7412,  0.7882,\n",
      "          0.7882,  0.8588,  0.5216, -1.0000],\n",
      "        [-0.9765, -1.0000, -1.0000, -1.0000, -1.0000, -1.0000, -1.0000, -1.0000,\n",
      "         -1.0000, -0.7490,  0.5137,  0.1294, -0.6157,  0.2706,  0.4510,  0.4980,\n",
      "          0.5922,  0.6157,  0.6627,  0.7098,  0.6235,  0.5373,  0.6078,  0.5843,\n",
      "          0.6627,  0.8196,  0.7176, -1.0000],\n",
      "        [-1.0000, -1.0000, -0.4196, -0.4980, -0.8510, -0.9922, -0.9137, -0.5608,\n",
      "          0.0275,  0.5686, -0.1529, -0.7882, -0.0196,  0.5922,  0.4824,  0.5294,\n",
      "          0.5765,  0.6000,  0.7255,  0.7647,  0.6706,  0.6078,  0.6314,  0.6000,\n",
      "          0.7098,  0.8353,  0.8275, -0.9059],\n",
      "        [-1.0000,  0.2235,  0.1922,  0.3333,  0.8196,  0.7725,  0.6235,  0.5216,\n",
      "          0.1373, -0.3961, -0.2941,  0.3882,  0.6627,  0.4745,  0.5216,  0.5843,\n",
      "          0.6000,  0.6706,  0.6784,  0.7333,  0.6549,  0.6314,  0.7255,  0.8118,\n",
      "          0.8902,  0.7961,  0.7020, -1.0000],\n",
      "        [-0.5686,  0.4980,  0.2549, -0.0510, -0.4196, -0.2863, -0.1843, -0.7804,\n",
      "         -0.5451,  0.0980,  0.6784,  0.4902,  0.5059,  0.6235,  0.5843,  0.6549,\n",
      "          0.6314,  0.5451,  0.5529,  0.5608,  0.5137,  0.5451,  0.5529,  0.5373,\n",
      "          0.5529,  0.6627,  0.7569, -0.8118],\n",
      "        [ 0.2157,  0.7176,  0.6706,  0.7176,  0.4431,  0.2314,  0.1373,  0.1451,\n",
      "          0.5529,  0.5451,  0.6235,  0.6784,  0.7176,  0.7412,  0.6549,  0.6549,\n",
      "          0.6863,  0.6784,  0.7569,  0.7961,  0.7412,  0.8667,  0.7569,  0.7020,\n",
      "          0.7098,  0.6627,  0.7255,  0.0980],\n",
      "        [-0.8118,  0.1373,  0.5216,  0.6627,  0.7412,  0.7882,  0.7098,  0.6627,\n",
      "          0.6157,  0.6706,  0.6941,  0.7333,  0.6941,  0.6627,  0.6627,  0.7255,\n",
      "          0.7490,  0.9765,  0.8510,  0.7176,  0.5922,  0.5373,  0.5686,  0.5608,\n",
      "          0.6157,  0.5843,  0.5765, -0.3490],\n",
      "        [-1.0000, -1.0000, -0.9529, -0.2706,  0.3098,  0.6157,  0.5922,  0.7098,\n",
      "          0.7098,  0.7412,  0.8588,  0.8824,  0.9137,  0.9216,  0.8902,  0.5843,\n",
      "         -0.0824, -0.6157, -1.0000, -0.3725,  1.0000,  0.7333,  0.9765,  0.9686,\n",
      "          1.0000,  0.7490,  1.0000, -0.1451],\n",
      "        [-0.9765, -1.0000, -1.0000, -1.0000, -1.0000, -1.0000, -0.7098, -0.4196,\n",
      "         -0.0196,  0.0824,  0.0980, -0.0039, -0.2784, -0.7020, -0.9686, -1.0000,\n",
      "         -1.0000, -1.0000, -1.0000, -1.0000, -0.2627, -0.5843, -0.5686, -0.6157,\n",
      "         -0.6549, -0.6863, -0.6627, -1.0000],\n",
      "        [-1.0000, -1.0000, -1.0000, -1.0000, -1.0000, -1.0000, -1.0000, -1.0000,\n",
      "         -1.0000, -1.0000, -1.0000, -1.0000, -1.0000, -1.0000, -1.0000, -1.0000,\n",
      "         -1.0000, -1.0000, -1.0000, -1.0000, -1.0000, -1.0000, -1.0000, -1.0000,\n",
      "         -1.0000, -1.0000, -1.0000, -1.0000],\n",
      "        [-1.0000, -1.0000, -1.0000, -1.0000, -1.0000, -1.0000, -1.0000, -1.0000,\n",
      "         -1.0000, -1.0000, -1.0000, -1.0000, -1.0000, -1.0000, -1.0000, -1.0000,\n",
      "         -1.0000, -1.0000, -1.0000, -1.0000, -1.0000, -1.0000, -1.0000, -1.0000,\n",
      "         -1.0000, -1.0000, -1.0000, -1.0000],\n",
      "        [-1.0000, -1.0000, -1.0000, -1.0000, -1.0000, -1.0000, -1.0000, -1.0000,\n",
      "         -1.0000, -1.0000, -1.0000, -1.0000, -1.0000, -1.0000, -1.0000, -1.0000,\n",
      "         -1.0000, -1.0000, -1.0000, -1.0000, -1.0000, -1.0000, -1.0000, -1.0000,\n",
      "         -1.0000, -1.0000, -1.0000, -1.0000]])\n",
      "tensor(9)\n"
     ]
    }
   ],
   "source": [
    "print(f\"Feature batch shape: {train_images.size()}\") #f'문자열 {변수} 문자열' f-string 64x1x28x28->(batch_size,channel,image height,image weight\n",
    "print(f\"Labels batch shape: {train_labels.size()}\")\n",
    "img=train_images[0].squeeze() #channel=1 이기때문에 1인차원을 scalar로 변환 채널을 없애야함. 채널을 없애줘야 화면에 그릴수 있음\n",
    "label= train_labels[0] \n",
    "#이미지별 라벨별 사이즈. 이미지는 64x1x28x28 label=64개\n",
    "print(img)\n",
    "print(label)"
   ]
  },
  {
   "cell_type": "code",
   "execution_count": 26,
   "id": "b7dd8a0f-2ca1-42e5-8355-62f3b37c99bf",
   "metadata": {
    "collapsed": true,
    "jupyter": {
     "outputs_hidden": true
    },
    "tags": []
   },
   "outputs": [
    {
     "data": {
      "image/png": "[encoded data removed]",
      "text/plain": [
       "<Figure size 432x288 with 1 Axes>"
      ]
     },
     "metadata": {
      "needs_background": "light"
     },
     "output_type": "display_data"
    },
    {
     "name": "stdout",
     "output_type": "stream",
     "text": [
      "Label:9\n",
      "Class name:Ankle boot\n"
     ]
    }
   ],
   "source": [
    "plt.imshow(img,cmap='gray')\n",
    "plt.show()\n",
    "print(f'Label:{label}')\n",
    "labeling=int(label)\n",
    "print(f'Class name:{labels_map[labeling]}')"
   ]
  },
  {
   "cell_type": "code",
   "execution_count": 27,
   "id": "185745f2-8f90-4ff5-bdbc-30dd64ff2b86",
   "metadata": {},
   "outputs": [],
   "source": [
    "############내가 이미지를 가지고있는경우\n",
    "###########Custom dataset만들기"
   ]
  },
  {
   "cell_type": "code",
   "execution_count": 29,
   "id": "b18b275b-4680-42f1-9d01-83b835524319",
   "metadata": {},
   "outputs": [],
   "source": [
    "from torch.utils.data import Dataset, DataLoader"
   ]
  },
  {
   "cell_type": "code",
   "execution_count": 35,
   "id": "97162597-018f-400e-8e81-ec4b8dad0319",
   "metadata": {},
   "outputs": [],
   "source": [
    "import numpy as np"
   ]
  },
  {
   "cell_type": "code",
   "execution_count": 39,
   "id": "a26baad3-8ace-494d-8457-b47cfb6f3787",
   "metadata": {},
   "outputs": [],
   "source": [
    "# Custom dataset, Transform, DataLoader 생성\n",
    "\n",
    "class Customdataset(Dataset):\n",
    "    def __init__(self,np_data,transform=None):\n",
    "        self.data=np_data\n",
    "        self.transform=transform\n",
    "        self.len=np_data.shape[0]\n",
    "    def __len__(self): #데이터 개수 리턴\n",
    "        return self.len\n",
    "    def __getitem__(self,idx): #index에 해당하는 데이터를 리턴해줌\n",
    "        sample=self.data[idx]\n",
    "        if self.transform: #데이터 변환까지 하고 가져오기\n",
    "            sample = self.transform(sample)\n",
    "        return sample"
   ]
  },
  {
   "cell_type": "code",
   "execution_count": 40,
   "id": "51eed724-8067-4fdd-8b9b-c364432dc73a",
   "metadata": {},
   "outputs": [],
   "source": [
    "#transform 생성\n",
    "\n",
    "def square(sample):\n",
    "    return sample**2"
   ]
  },
  {
   "cell_type": "code",
   "execution_count": 41,
   "id": "7784ee7f-9e48-4299-a13b-c0726c7daebe",
   "metadata": {},
   "outputs": [],
   "source": [
    "transform1=transforms.Compose([square])"
   ]
  },
  {
   "cell_type": "code",
   "execution_count": 50,
   "id": "7917968d-03ad-4fb4-bada-1d89698a98a5",
   "metadata": {},
   "outputs": [
    {
     "data": {
      "text/plain": [
       "array([ 0,  1,  2,  3,  4,  5,  6,  7,  8,  9, 10, 11])"
      ]
     },
     "execution_count": 50,
     "metadata": {},
     "output_type": "execute_result"
    }
   ],
   "source": [
    "np_data = np.arange(12)\n",
    "np_data"
   ]
  },
  {
   "cell_type": "code",
   "execution_count": 51,
   "id": "7259b186-be3f-46d2-b372-dac37d1d4a68",
   "metadata": {},
   "outputs": [],
   "source": [
    "custom_dataset=Customdataset(np_data,transform=transform1)"
   ]
  },
  {
   "cell_type": "code",
   "execution_count": 52,
   "id": "ee2b4032-df03-4597-afbd-3e79001a5fa0",
   "metadata": {},
   "outputs": [
    {
     "name": "stdout",
     "output_type": "stream",
     "text": [
      "<class '__main__.Customdataset'>\n",
      "0\n",
      "12\n"
     ]
    }
   ],
   "source": [
    "print(type(custom_dataset))\n",
    "print(custom_dataset[0])\n",
    "print(len(custom_dataset))"
   ]
  },
  {
   "cell_type": "code",
   "execution_count": 53,
   "id": "66269d8c-1324-4809-978c-88edfe3bd67a",
   "metadata": {},
   "outputs": [],
   "source": [
    "custom_dataloader=DataLoader(custom_dataset,batch_size=2,shuffle=True)"
   ]
  },
  {
   "cell_type": "code",
   "execution_count": 56,
   "id": "22b5df06-20dd-43f6-8485-4ba07ff13fb9",
   "metadata": {},
   "outputs": [
    {
     "name": "stdout",
     "output_type": "stream",
     "text": [
      "<class 'torch.utils.data.dataloader.DataLoader'>\n"
     ]
    }
   ],
   "source": [
    "print(type(custom_dataloader))"
   ]
  },
  {
   "cell_type": "code",
   "execution_count": 58,
   "id": "e5f9902f-83f0-4778-836a-d3a2a1704817",
   "metadata": {},
   "outputs": [
    {
     "name": "stdout",
     "output_type": "stream",
     "text": [
      "tensor([81, 25], dtype=torch.int32)\n",
      "tensor([64, 16], dtype=torch.int32)\n",
      "tensor([ 49, 121], dtype=torch.int32)\n",
      "tensor([36,  0], dtype=torch.int32)\n",
      "tensor([100,   4], dtype=torch.int32)\n",
      "tensor([9, 1], dtype=torch.int32)\n",
      "========================================\n",
      "tensor([4, 9], dtype=torch.int32)\n",
      "tensor([64,  1], dtype=torch.int32)\n",
      "tensor([ 16, 121], dtype=torch.int32)\n",
      "tensor([25,  0], dtype=torch.int32)\n",
      "tensor([36, 49], dtype=torch.int32)\n",
      "tensor([100,  81], dtype=torch.int32)\n",
      "========================================\n",
      "tensor([49,  4], dtype=torch.int32)\n",
      "tensor([81,  9], dtype=torch.int32)\n",
      "tensor([64, 25], dtype=torch.int32)\n",
      "tensor([100,   0], dtype=torch.int32)\n",
      "tensor([ 1, 36], dtype=torch.int32)\n",
      "tensor([121,  16], dtype=torch.int32)\n",
      "========================================\n"
     ]
    }
   ],
   "source": [
    "for epoch in range(3): #epoch\n",
    "    for data in custom_dataloader:\n",
    "        print(data)\n",
    "    print(\"==\"*20)"
   ]
  },
  {
   "cell_type": "code",
   "execution_count": 59,
   "id": "f3553e08-aa73-4bb1-9523-c4fe51a367e8",
   "metadata": {},
   "outputs": [],
   "source": [
    "#Model 생성"
   ]
  },
  {
   "cell_type": "code",
   "execution_count": 61,
   "id": "50e72467-5719-4734-8159-11c8452719a5",
   "metadata": {},
   "outputs": [
    {
     "name": "stdout",
     "output_type": "stream",
     "text": [
      "Using cuda device\n"
     ]
    }
   ],
   "source": [
    "device= 'cuda' if torch.cuda.is_available() else 'cpu'\n",
    "print('Using {} device'.format(device))\n",
    "#GPU사용"
   ]
  },
  {
   "cell_type": "code",
   "execution_count": 64,
   "id": "fd5b101c-017c-41af-b755-3ecbe5967844",
   "metadata": {},
   "outputs": [],
   "source": [
    "import torch.nn as nn #deep learning model에 필요한 모듈이 모아져있는 패키지, 신경망을 구축하기 위한 데이터 구조나 레이어 정의"
   ]
  },
  {
   "cell_type": "code",
   "execution_count": 65,
   "id": "95aa85a4-58ca-4e85-9cf2-8b3801d123b9",
   "metadata": {},
   "outputs": [],
   "source": [
    "#Model Class만들기\n",
    "\n",
    "class NeuralNetwork(nn.Module): #nn.Module 상속\n",
    "    def __init__(self):\n",
    "        super(NeuralNetwork,self).__init__() #상위클래스상속\n",
    "        self.flatten=nn.Flatten() #28x28->flatten vector\n",
    "        self.linear_relu_stack=nn.Sequential(\n",
    "            nn.Linear(28*28,128),\n",
    "            nn.ReLU(),\n",
    "            nn.Dropout(0.2),\n",
    "            nn.Linear(128,10)\n",
    "        )\n",
    "        \n",
    "    def forward(self,x):\n",
    "        x=self.flatten(x)\n",
    "        logits=self.linear_relu_stack(x)\n",
    "        return logits\n",
    "        "
   ]
  },
  {
   "cell_type": "code",
   "execution_count": 66,
   "id": "75e0b156-e6a4-4391-8deb-dbb828983692",
   "metadata": {},
   "outputs": [
    {
     "name": "stdout",
     "output_type": "stream",
     "text": [
      "NeuralNetwork(\n",
      "  (flatten): Flatten(start_dim=1, end_dim=-1)\n",
      "  (linear_relu_stack): Sequential(\n",
      "    (0): Linear(in_features=784, out_features=128, bias=True)\n",
      "    (1): ReLU()\n",
      "    (2): Dropout(p=0.2, inplace=False)\n",
      "    (3): Linear(in_features=128, out_features=10, bias=True)\n",
      "  )\n",
      ")\n"
     ]
    }
   ],
   "source": [
    "#model instance 생성, device생성\n",
    "\n",
    "model=NeuralNetwork().to(device)\n",
    "print(model)"
   ]
  },
  {
   "cell_type": "code",
   "execution_count": 68,
   "id": "1e476257-d8f3-45e2-87ce-a0ca30a6df5b",
   "metadata": {
    "collapsed": true,
    "jupyter": {
     "outputs_hidden": true
    },
    "tags": []
   },
   "outputs": [
    {
     "name": "stdout",
     "output_type": "stream",
     "text": [
      "tensor([[[8.2587e-01, 2.1279e-01, 7.2920e-01, 3.2095e-01, 7.5498e-01,\n",
      "          2.1323e-01, 9.2779e-01, 1.4424e-01, 3.4718e-01, 9.9745e-01,\n",
      "          5.5313e-01, 2.4914e-01, 9.3016e-01, 2.7925e-01, 8.4274e-01,\n",
      "          5.2128e-01, 1.3836e-01, 6.9538e-01, 5.9176e-01, 8.7048e-01,\n",
      "          4.0858e-01, 7.7900e-01, 3.7622e-01, 1.6721e-01, 3.3444e-01,\n",
      "          4.1896e-01, 1.1358e-01, 9.8901e-01],\n",
      "         [6.3332e-01, 6.3259e-01, 5.8141e-01, 7.7275e-01, 3.7738e-02,\n",
      "          3.9460e-02, 1.4193e-01, 7.1646e-01, 5.0315e-01, 9.6149e-01,\n",
      "          7.1596e-01, 7.5633e-01, 9.5550e-01, 9.7679e-01, 1.8280e-01,\n",
      "          1.5321e-01, 7.7652e-01, 7.9195e-01, 1.0510e-01, 8.3985e-01,\n",
      "          8.1343e-01, 7.5455e-01, 9.1119e-01, 7.7145e-01, 3.2155e-01,\n",
      "          5.4403e-02, 5.0410e-01, 6.3821e-01],\n",
      "         [9.9271e-02, 2.0472e-01, 6.9373e-01, 8.0458e-01, 9.5233e-01,\n",
      "          8.1315e-01, 8.6996e-01, 3.6335e-01, 2.2962e-01, 3.5577e-01,\n",
      "          4.5007e-01, 9.8490e-02, 3.1545e-01, 7.5039e-01, 7.0354e-01,\n",
      "          3.2903e-01, 9.1407e-01, 3.9043e-01, 1.7540e-01, 9.7798e-01,\n",
      "          3.7225e-01, 2.5717e-01, 9.1849e-01, 9.8674e-01, 9.8417e-01,\n",
      "          7.3645e-01, 4.6302e-01, 9.9784e-01],\n",
      "         [6.1440e-02, 9.0408e-01, 1.7221e-01, 5.6828e-03, 8.2064e-01,\n",
      "          4.3894e-01, 2.9609e-02, 2.5884e-01, 3.3867e-01, 6.8617e-01,\n",
      "          8.2654e-02, 8.3026e-02, 9.1721e-01, 5.4824e-01, 8.0004e-01,\n",
      "          5.4220e-01, 7.5668e-01, 3.5412e-01, 2.9306e-01, 4.6100e-01,\n",
      "          8.2427e-01, 2.1733e-01, 3.2570e-01, 4.4502e-01, 9.3389e-01,\n",
      "          9.7455e-01, 4.7499e-01, 1.1447e-01],\n",
      "         [8.3418e-01, 6.2625e-01, 1.8500e-01, 3.9152e-02, 3.1984e-01,\n",
      "          1.4548e-01, 5.9345e-01, 5.9928e-01, 1.5215e-01, 6.3682e-01,\n",
      "          3.2454e-01, 8.2234e-01, 8.7057e-01, 9.9923e-01, 5.9017e-01,\n",
      "          6.3135e-02, 7.4750e-01, 4.8212e-01, 3.7281e-03, 1.9014e-01,\n",
      "          8.6078e-01, 7.4174e-01, 8.7599e-01, 9.5437e-01, 9.4926e-01,\n",
      "          2.0772e-01, 6.3421e-01, 9.7985e-01],\n",
      "         [3.5154e-01, 8.2421e-01, 2.5437e-01, 8.1973e-01, 7.5829e-01,\n",
      "          2.0831e-01, 9.7917e-01, 7.1622e-01, 9.6209e-02, 7.2455e-02,\n",
      "          7.7986e-01, 1.9658e-01, 6.7830e-02, 8.3102e-01, 1.7187e-01,\n",
      "          7.5768e-01, 5.6070e-01, 5.1993e-01, 7.7162e-01, 1.2614e-02,\n",
      "          6.6803e-01, 5.0286e-01, 9.9217e-02, 8.6740e-02, 7.5778e-01,\n",
      "          4.5071e-01, 4.8832e-02, 2.3806e-01],\n",
      "         [9.6893e-01, 6.0383e-01, 6.3330e-01, 9.7191e-01, 5.3522e-01,\n",
      "          6.0036e-01, 8.1975e-01, 5.5917e-01, 4.4819e-01, 4.2000e-01,\n",
      "          7.0431e-01, 1.1859e-02, 3.9484e-01, 6.5549e-02, 5.2538e-01,\n",
      "          3.0477e-01, 3.4072e-01, 9.3642e-01, 2.7142e-01, 9.5597e-01,\n",
      "          3.7429e-02, 4.0331e-01, 3.6634e-01, 9.9241e-01, 4.9540e-01,\n",
      "          1.7973e-02, 3.8085e-01, 2.6651e-01],\n",
      "         [7.6581e-02, 7.2792e-01, 8.4608e-01, 2.4603e-01, 5.1763e-01,\n",
      "          9.3025e-01, 1.2045e-01, 2.6762e-01, 7.2260e-01, 4.0987e-01,\n",
      "          8.8184e-01, 4.3725e-01, 3.2889e-01, 1.1804e-02, 5.8585e-01,\n",
      "          1.2177e-01, 6.3410e-02, 5.4620e-01, 8.0699e-01, 3.1838e-01,\n",
      "          6.2167e-01, 3.4515e-01, 2.4855e-01, 3.1841e-01, 7.2852e-01,\n",
      "          6.6462e-01, 3.2691e-01, 1.1464e-01],\n",
      "         [1.8075e-01, 9.3055e-01, 8.1818e-01, 8.6212e-01, 8.9226e-01,\n",
      "          3.5750e-01, 7.6690e-01, 8.0070e-01, 1.9179e-01, 3.2122e-01,\n",
      "          1.8187e-01, 3.6921e-01, 7.9232e-01, 5.3011e-01, 5.1945e-01,\n",
      "          4.4902e-01, 1.6871e-01, 6.6605e-01, 7.1768e-01, 7.7052e-01,\n",
      "          1.4203e-01, 8.0121e-01, 9.6337e-01, 6.0665e-01, 7.7434e-01,\n",
      "          4.4785e-01, 3.8274e-02, 1.2182e-01],\n",
      "         [6.3048e-01, 6.4877e-01, 8.9623e-01, 6.5622e-01, 3.6150e-01,\n",
      "          1.1061e-01, 1.0524e-01, 5.5606e-01, 7.9423e-01, 3.7882e-01,\n",
      "          5.5647e-01, 9.2301e-01, 5.1908e-01, 6.3739e-01, 4.5365e-01,\n",
      "          9.5846e-01, 2.6977e-01, 6.4753e-01, 4.9685e-01, 5.4698e-02,\n",
      "          2.3694e-01, 2.9958e-01, 6.8175e-02, 6.0136e-01, 5.4435e-02,\n",
      "          6.8624e-02, 6.4918e-01, 9.4049e-01],\n",
      "         [3.1519e-01, 1.5801e-01, 1.2992e-01, 9.8653e-01, 2.0023e-01,\n",
      "          7.4195e-02, 9.2579e-01, 7.5109e-02, 5.1603e-01, 3.0734e-01,\n",
      "          5.0833e-01, 9.5787e-01, 1.1620e-01, 6.8230e-01, 8.2007e-01,\n",
      "          4.1981e-01, 5.7260e-01, 4.9203e-01, 9.1361e-01, 4.9241e-01,\n",
      "          1.6030e-01, 5.6487e-01, 8.6619e-01, 1.3347e-01, 7.2049e-01,\n",
      "          7.1880e-01, 8.4461e-02, 9.8793e-01],\n",
      "         [7.1710e-02, 3.5540e-01, 1.8252e-01, 5.0335e-01, 7.5607e-01,\n",
      "          9.0983e-01, 6.6740e-01, 4.9545e-01, 7.3591e-01, 4.5583e-01,\n",
      "          4.7511e-01, 8.3409e-01, 7.7847e-01, 8.5979e-02, 5.9134e-01,\n",
      "          2.2861e-01, 8.1107e-01, 9.1366e-03, 4.0192e-01, 4.2580e-01,\n",
      "          1.6457e-01, 5.4254e-01, 1.3250e-01, 4.8851e-02, 3.8583e-01,\n",
      "          6.9160e-01, 9.3502e-01, 9.9625e-01],\n",
      "         [5.9871e-01, 9.0027e-01, 8.3555e-01, 5.6326e-01, 3.1410e-01,\n",
      "          1.0222e-01, 7.2663e-01, 7.0937e-01, 8.4450e-01, 9.5708e-01,\n",
      "          2.9737e-01, 1.6483e-02, 9.1499e-01, 5.8955e-01, 6.7012e-01,\n",
      "          2.4493e-01, 3.6208e-01, 4.3559e-01, 2.4087e-01, 3.7879e-01,\n",
      "          8.9382e-01, 7.4715e-01, 9.8218e-01, 6.3647e-02, 4.6976e-03,\n",
      "          1.4384e-01, 1.9051e-01, 1.1549e-01],\n",
      "         [1.3023e-01, 6.0514e-01, 4.3674e-01, 1.4852e-01, 8.6430e-01,\n",
      "          3.5294e-01, 2.9414e-01, 5.3380e-01, 5.9672e-02, 3.6619e-01,\n",
      "          4.0512e-01, 8.6319e-01, 5.6324e-01, 4.4544e-01, 8.0507e-01,\n",
      "          6.2594e-01, 3.2897e-01, 3.0822e-01, 9.1757e-01, 8.1483e-01,\n",
      "          3.3355e-01, 8.0475e-01, 7.0317e-01, 8.9277e-01, 8.0009e-02,\n",
      "          2.3262e-01, 8.7704e-01, 8.4498e-01],\n",
      "         [3.4917e-01, 4.3405e-01, 8.2574e-02, 8.1615e-01, 8.8045e-01,\n",
      "          2.1840e-01, 6.9539e-01, 6.4223e-02, 9.9958e-01, 9.5426e-01,\n",
      "          5.2777e-01, 4.5655e-02, 5.4074e-01, 1.7500e-01, 4.7913e-01,\n",
      "          7.8935e-01, 7.6043e-01, 1.3234e-01, 7.9887e-01, 5.7903e-01,\n",
      "          3.4439e-01, 3.7243e-02, 8.0211e-01, 3.4327e-02, 2.5023e-01,\n",
      "          7.3184e-01, 3.4295e-01, 7.1647e-01],\n",
      "         [7.7673e-01, 3.2692e-01, 3.1297e-01, 7.4761e-01, 7.9288e-01,\n",
      "          4.8105e-02, 2.3172e-01, 3.7239e-01, 1.9022e-02, 6.1674e-01,\n",
      "          7.1419e-02, 6.9194e-01, 9.5688e-01, 9.0218e-01, 5.4235e-01,\n",
      "          1.0010e-01, 7.5391e-01, 9.8772e-02, 9.2941e-01, 9.3410e-01,\n",
      "          9.8928e-01, 6.2945e-01, 5.9731e-01, 9.7146e-01, 4.1044e-01,\n",
      "          5.5245e-01, 5.0013e-01, 1.6095e-01],\n",
      "         [5.0011e-01, 9.1892e-01, 3.4792e-01, 3.7683e-01, 2.4059e-01,\n",
      "          1.4864e-01, 3.5043e-01, 9.5583e-04, 3.0568e-01, 2.1223e-01,\n",
      "          5.7610e-01, 3.8681e-01, 7.1025e-01, 1.4108e-01, 7.3952e-01,\n",
      "          3.5360e-01, 3.5111e-01, 3.5483e-01, 7.7919e-02, 2.1845e-01,\n",
      "          4.8060e-01, 4.2216e-02, 2.8093e-01, 4.1208e-01, 5.4716e-01,\n",
      "          5.0971e-02, 5.9180e-01, 7.1504e-01],\n",
      "         [3.3998e-01, 2.2054e-02, 1.2997e-01, 6.8228e-01, 4.0028e-01,\n",
      "          2.7042e-01, 1.9024e-01, 2.2413e-01, 7.3161e-01, 4.1897e-01,\n",
      "          7.5450e-01, 9.2252e-01, 6.0909e-01, 1.6145e-01, 1.5192e-01,\n",
      "          8.2916e-01, 6.8689e-01, 5.3829e-01, 8.6310e-01, 6.3673e-01,\n",
      "          9.7805e-01, 5.4873e-01, 4.4620e-01, 5.3286e-01, 9.7053e-01,\n",
      "          9.0669e-01, 9.6473e-01, 8.0651e-01],\n",
      "         [1.2093e-01, 1.5068e-01, 1.0827e-03, 2.5908e-01, 8.1125e-01,\n",
      "          2.4363e-01, 7.5267e-01, 9.4764e-01, 6.6202e-01, 7.6312e-01,\n",
      "          1.0331e-01, 9.0849e-01, 9.6806e-01, 7.0791e-01, 9.6512e-01,\n",
      "          9.7798e-01, 9.9312e-01, 4.7849e-02, 7.9314e-01, 6.2593e-01,\n",
      "          7.2230e-01, 6.4990e-01, 1.7535e-01, 5.0727e-01, 2.1557e-01,\n",
      "          4.1407e-01, 1.5911e-02, 7.1290e-01],\n",
      "         [7.4552e-02, 3.9387e-01, 2.3848e-01, 8.1079e-01, 8.3160e-01,\n",
      "          5.7351e-01, 3.6024e-01, 8.7711e-01, 5.3629e-02, 5.9719e-02,\n",
      "          7.7323e-01, 4.9371e-01, 6.3797e-01, 6.4451e-01, 4.6158e-01,\n",
      "          4.1961e-01, 3.5350e-01, 2.6849e-01, 3.1127e-01, 6.6116e-01,\n",
      "          9.9229e-01, 2.4997e-01, 2.9662e-01, 1.4842e-01, 7.6263e-01,\n",
      "          5.8200e-02, 4.3945e-01, 3.6908e-01],\n",
      "         [3.9165e-01, 5.1072e-01, 2.1027e-01, 3.5509e-01, 3.2072e-04,\n",
      "          3.4927e-02, 3.8372e-01, 3.6975e-01, 6.4979e-01, 5.3267e-01,\n",
      "          6.3170e-02, 1.2003e-01, 2.3515e-01, 1.7923e-01, 8.4246e-01,\n",
      "          5.7907e-01, 9.3580e-01, 8.2140e-01, 2.5015e-01, 5.5153e-01,\n",
      "          6.8244e-01, 3.3008e-01, 4.7233e-01, 9.9812e-02, 6.2209e-01,\n",
      "          7.1398e-01, 4.4408e-01, 8.7593e-01],\n",
      "         [2.3761e-01, 3.2614e-02, 3.8716e-01, 8.8260e-01, 4.2843e-01,\n",
      "          1.8261e-01, 6.6046e-01, 6.4026e-01, 4.2488e-01, 1.7686e-01,\n",
      "          9.0561e-01, 5.1487e-01, 9.0607e-01, 8.1095e-01, 4.5624e-01,\n",
      "          8.5102e-01, 3.2597e-01, 6.5668e-01, 8.4307e-01, 4.1450e-01,\n",
      "          9.8675e-02, 5.3084e-01, 9.3978e-02, 1.6974e-01, 4.6812e-01,\n",
      "          7.6221e-01, 2.3582e-01, 5.0773e-01],\n",
      "         [6.6701e-01, 2.6067e-02, 7.0890e-01, 5.9467e-02, 5.2272e-01,\n",
      "          6.3026e-01, 4.9982e-01, 3.5832e-01, 2.2889e-01, 8.7842e-01,\n",
      "          1.7585e-01, 4.7170e-01, 2.1750e-01, 6.6556e-01, 6.5803e-01,\n",
      "          6.9776e-01, 8.5488e-01, 6.0464e-01, 4.5146e-01, 4.8552e-01,\n",
      "          1.5644e-01, 7.8073e-01, 7.3654e-01, 3.1580e-01, 9.2006e-01,\n",
      "          3.8318e-01, 1.9255e-01, 6.3113e-01],\n",
      "         [7.5902e-01, 9.9460e-01, 9.5705e-01, 4.4502e-01, 1.7849e-01,\n",
      "          9.0807e-01, 6.8482e-01, 2.8939e-01, 7.5304e-01, 7.6764e-01,\n",
      "          1.7909e-01, 8.4686e-01, 3.0184e-01, 5.3166e-01, 1.4625e-01,\n",
      "          6.7134e-01, 9.0668e-01, 5.2207e-02, 5.8771e-01, 2.9473e-01,\n",
      "          1.2758e-01, 9.4934e-02, 5.0185e-01, 8.4703e-01, 8.2827e-01,\n",
      "          7.1616e-01, 4.5378e-01, 4.7921e-01],\n",
      "         [2.5363e-01, 4.3311e-01, 7.3691e-01, 8.4037e-02, 4.7633e-01,\n",
      "          5.5105e-01, 9.3689e-01, 4.8932e-01, 3.0510e-01, 6.3280e-01,\n",
      "          3.3206e-01, 5.7392e-02, 8.9695e-01, 7.7442e-01, 6.5210e-01,\n",
      "          6.8134e-01, 4.4389e-01, 5.6835e-01, 4.1495e-01, 9.8154e-01,\n",
      "          1.3664e-01, 2.5686e-01, 1.7503e-01, 4.7170e-01, 2.0045e-01,\n",
      "          9.2604e-01, 7.3434e-01, 8.7811e-01],\n",
      "         [4.6215e-01, 2.6251e-01, 6.7930e-02, 6.5877e-01, 7.2547e-01,\n",
      "          2.5529e-01, 5.4239e-01, 8.7610e-01, 8.3286e-01, 8.3966e-01,\n",
      "          7.6751e-01, 9.1815e-01, 5.2949e-01, 1.9423e-01, 6.1969e-01,\n",
      "          7.0976e-01, 2.9269e-01, 1.9610e-01, 6.4474e-01, 4.2775e-01,\n",
      "          2.9137e-01, 9.4212e-01, 9.9820e-01, 2.0682e-01, 6.5589e-01,\n",
      "          9.2674e-01, 6.9070e-01, 1.7989e-01],\n",
      "         [7.5752e-01, 7.3974e-01, 4.3147e-01, 5.3848e-01, 9.7437e-01,\n",
      "          7.9331e-01, 8.0126e-01, 3.0995e-01, 6.9568e-01, 1.1655e-01,\n",
      "          5.2748e-01, 9.0385e-01, 5.5035e-01, 5.8793e-01, 1.5608e-01,\n",
      "          6.5203e-01, 1.8092e-01, 5.0325e-02, 2.2385e-01, 8.5492e-01,\n",
      "          1.3736e-01, 7.0035e-01, 7.8961e-01, 8.7096e-01, 8.8258e-01,\n",
      "          2.7143e-01, 5.7555e-01, 4.3599e-02],\n",
      "         [1.1876e-01, 8.9863e-01, 1.8849e-01, 6.6448e-01, 4.0411e-01,\n",
      "          2.9885e-01, 3.6694e-01, 9.6345e-01, 6.8849e-01, 2.5652e-01,\n",
      "          6.6257e-01, 5.4832e-01, 8.6192e-01, 4.0666e-01, 1.0867e-01,\n",
      "          5.7702e-01, 4.0327e-01, 5.4114e-01, 3.8220e-01, 2.8993e-01,\n",
      "          6.7788e-02, 4.8743e-02, 6.4921e-01, 9.7587e-01, 4.7290e-01,\n",
      "          2.8600e-01, 1.2410e-01, 3.0708e-01]]], device='cuda:0')\n",
      "predicted class:tensor([6], device='cuda:0')\n"
     ]
    }
   ],
   "source": [
    "#random data만들어 예측\n",
    "\n",
    "X=torch.rand(1,28,28,device=device)\n",
    "print(X)\n",
    "logits=model(X)\n",
    "pred_probab=nn.Softmax(dim=1)(logits)\n",
    "y_pred=pred_probab.argmax(1)\n",
    "print(f'predicted class:{y_pred}')"
   ]
  },
  {
   "cell_type": "code",
   "execution_count": 69,
   "id": "a4db66ca-2654-4ce1-bcb5-51e20d2c7d77",
   "metadata": {},
   "outputs": [],
   "source": [
    "######실제데이터 Training"
   ]
  },
  {
   "cell_type": "code",
   "execution_count": 70,
   "id": "2545de1d-c05d-4dbf-a2af-bd6eabd678f7",
   "metadata": {},
   "outputs": [],
   "source": [
    "loss_fn=nn.CrossEntropyLoss() #다중분류"
   ]
  },
  {
   "cell_type": "code",
   "execution_count": 72,
   "id": "de6e1f3e-e2b7-4127-b41e-d4a025d5fd8c",
   "metadata": {},
   "outputs": [],
   "source": [
    "#optimizer\n",
    "import torch.optim as optim #학습에 관련된 optimizing method가 있는 패키지"
   ]
  },
  {
   "cell_type": "code",
   "execution_count": 73,
   "id": "02bdbc65-030e-498b-814e-c7d77c331662",
   "metadata": {},
   "outputs": [],
   "source": [
    "learning_rate=1e-3\n",
    "optimizer=torch.optim.Adam(model.parameters(),lr=learning_rate)"
   ]
  },
  {
   "cell_type": "code",
   "execution_count": 83,
   "id": "06a7f48b-38fa-48ef-a8a0-dab44d6fe6b1",
   "metadata": {},
   "outputs": [],
   "source": [
    "#모델 학습 Part\n",
    "\n",
    "def train_loop(dataloader,model,loss_fn,optimizer):\n",
    "    size=len(dataloader.dataset)\n",
    "    print(size) #전체데이터 개수\n",
    "    for batch, (X,y) in enumerate(dataloader): #이미지와 라벨값 추출\n",
    "        X,y = X.to(device), y.to(device) #GPU로보냄\n",
    "        pred=model(X) #dataloader에서 이미지 데이터 부분을 학습\n",
    "        loss=loss_fn(pred,y) #model을통해 나온 최종 예측값, 실제 라벨값과의 차이를 계산해주는 부분.\n",
    "        \n",
    "        #backpropagation\n",
    "        optimizer.zero_grad() #이전 데이터의 미분값이 다음 데이터 역전파의 미분값에 누적되는 것을 방지하기 위해 사용\n",
    "        loss.backward() #backpropagation\n",
    "        optimizer.step() #weight bias step마다 업데이트\n",
    "        \n",
    "        if batch % 200 == 0: #200번 배치마다 loss값 출력, 현재까지 몇개했는지 출력\n",
    "            loss,current = loss.item(), batch * len(X)\n",
    "            print(f'loss: {loss:>7f} [{current:5d}/{size:>5d}]')\n",
    "            \n",
    "# For Test\n",
    "def test_loop(dataloader,model,loss_fn):\n",
    "    size=len(dataloader.dataset)\n",
    "    num_batches=len(dataloader)\n",
    "    test_loss, correct= 0,0\n",
    "    \n",
    "    with torch.no_grad(): #gradient 계산 X\n",
    "        for X,y in dataloader:\n",
    "            X,y = X.to(device), y.to(device)\n",
    "            pred=model(X)\n",
    "            test_loss += loss_fn(pred,y).item() #torch tensor중 scalar값을 뽑아줌 즉 라벨값.\n",
    "            correct += (pred.argmax(1) ==y).type(torch.float).sum().item() \n",
    "            \n",
    "    test_loss/=num_batches\n",
    "    correct /= size\n",
    "    print(f'Test Error :\\n Accuracy: {(100*correct): 0.1f}%, AVG loss: {test_loss: >7f} \\n')"
   ]
  },
  {
   "cell_type": "code",
   "execution_count": 84,
   "id": "fe1489e5-38e6-4a99-90b6-c5f809e5cd6b",
   "metadata": {},
   "outputs": [
    {
     "name": "stdout",
     "output_type": "stream",
     "text": [
      "Epoch 1\n",
      "-----------\n",
      "60000\n",
      "loss: 0.387247 [    0/60000]\n",
      "loss: 0.254256 [12800/60000]\n",
      "loss: 0.541752 [25600/60000]\n",
      "loss: 0.382694 [38400/60000]\n",
      "loss: 0.343514 [51200/60000]\n",
      "Test Error :\n",
      " Accuracy:  85.9%, AVG loss: 0.390415 \n",
      "\n",
      "Epoch 2\n",
      "-----------\n",
      "60000\n",
      "loss: 0.166254 [    0/60000]\n",
      "loss: 0.287208 [12800/60000]\n",
      "loss: 0.159219 [25600/60000]\n",
      "loss: 0.599620 [38400/60000]\n",
      "loss: 0.453417 [51200/60000]\n",
      "Test Error :\n",
      " Accuracy:  86.3%, AVG loss: 0.389805 \n",
      "\n",
      "Epoch 3\n",
      "-----------\n",
      "60000\n",
      "loss: 0.336629 [    0/60000]\n",
      "loss: 0.256465 [12800/60000]\n",
      "loss: 0.626420 [25600/60000]\n",
      "loss: 0.316378 [38400/60000]\n",
      "loss: 0.484028 [51200/60000]\n",
      "Test Error :\n",
      " Accuracy:  86.7%, AVG loss: 0.390021 \n",
      "\n",
      "Epoch 4\n",
      "-----------\n",
      "60000\n",
      "loss: 0.218517 [    0/60000]\n",
      "loss: 0.444177 [12800/60000]\n",
      "loss: 0.391478 [25600/60000]\n",
      "loss: 0.316900 [38400/60000]\n",
      "loss: 0.289055 [51200/60000]\n",
      "Test Error :\n",
      " Accuracy:  86.7%, AVG loss: 0.380918 \n",
      "\n",
      "Epoch 5\n",
      "-----------\n",
      "60000\n",
      "loss: 0.223128 [    0/60000]\n",
      "loss: 0.284747 [12800/60000]\n",
      "loss: 0.297507 [25600/60000]\n",
      "loss: 0.249327 [38400/60000]\n",
      "loss: 0.247027 [51200/60000]\n",
      "Test Error :\n",
      " Accuracy:  86.0%, AVG loss: 0.395278 \n",
      "\n",
      "Epoch 6\n",
      "-----------\n",
      "60000\n",
      "loss: 0.447066 [    0/60000]\n",
      "loss: 0.213085 [12800/60000]\n",
      "loss: 0.298426 [25600/60000]\n",
      "loss: 0.269547 [38400/60000]\n",
      "loss: 0.239297 [51200/60000]\n",
      "Test Error :\n",
      " Accuracy:  86.8%, AVG loss: 0.381091 \n",
      "\n",
      "Epoch 7\n",
      "-----------\n",
      "60000\n",
      "loss: 0.333356 [    0/60000]\n",
      "loss: 0.389327 [12800/60000]\n",
      "loss: 0.263524 [25600/60000]\n",
      "loss: 0.214596 [38400/60000]\n",
      "loss: 0.330952 [51200/60000]\n",
      "Test Error :\n",
      " Accuracy:  87.0%, AVG loss: 0.373616 \n",
      "\n",
      "Epoch 8\n",
      "-----------\n",
      "60000\n",
      "loss: 0.428102 [    0/60000]\n",
      "loss: 0.260197 [12800/60000]\n",
      "loss: 0.248731 [25600/60000]\n",
      "loss: 0.331139 [38400/60000]\n",
      "loss: 0.117996 [51200/60000]\n",
      "Test Error :\n",
      " Accuracy:  87.3%, AVG loss: 0.369507 \n",
      "\n",
      "학습 완료\n"
     ]
    }
   ],
   "source": [
    "#학습 진행\n",
    "epochs = 8\n",
    "for t in range(epochs):\n",
    "    print(f'Epoch {t+1}\\n-----------')\n",
    "    train_loop(trainloader,model,loss_fn,optimizer)\n",
    "    test_loop(testloader,model,loss_fn)\n",
    "print('학습 완료')"
   ]
  },
  {
   "cell_type": "code",
   "execution_count": 85,
   "id": "ee78a899-e9d8-45b9-b3c5-eddf3c630293",
   "metadata": {},
   "outputs": [],
   "source": [
    "#########model save Load"
   ]
  },
  {
   "cell_type": "code",
   "execution_count": 90,
   "id": "24f5ec6a-3b79-482f-ad08-c24edb64410f",
   "metadata": {},
   "outputs": [],
   "source": [
    "torch.save(model.state_dict(), 'model_weights.pth')\n",
    "#weigth bias 저장"
   ]
  },
  {
   "cell_type": "code",
   "execution_count": 91,
   "id": "1ab1fc08-f47d-4b09-b3ef-a7423453c7d6",
   "metadata": {},
   "outputs": [
    {
     "name": "stdout",
     "output_type": "stream",
     "text": [
      "NeuralNetwork(\n",
      "  (flatten): Flatten(start_dim=1, end_dim=-1)\n",
      "  (linear_relu_stack): Sequential(\n",
      "    (0): Linear(in_features=784, out_features=128, bias=True)\n",
      "    (1): ReLU()\n",
      "    (2): Dropout(p=0.2, inplace=False)\n",
      "    (3): Linear(in_features=128, out_features=10, bias=True)\n",
      "  )\n",
      ")\n"
     ]
    }
   ],
   "source": [
    "#새모델 생성, device설정\n",
    "model2=NeuralNetwork().to(device)\n",
    "print(model2)"
   ]
  },
  {
   "cell_type": "code",
   "execution_count": 92,
   "id": "ed4d6be3-ab29-449a-941a-c2a6c5b43edb",
   "metadata": {},
   "outputs": [
    {
     "name": "stdout",
     "output_type": "stream",
     "text": [
      "Test Error :\n",
      " Accuracy:  12.3%, AVG loss: 2.284070 \n",
      "\n"
     ]
    }
   ],
   "source": [
    "#test\n",
    "model2.eval() # train을 하는 상태가 아니다라는것을 지정해줌\n",
    "test_loop(testloader,model2,loss_fn)"
   ]
  },
  {
   "cell_type": "code",
   "execution_count": 94,
   "id": "5701b9a9-cc06-45c8-96dc-7088811ce4c9",
   "metadata": {},
   "outputs": [
    {
     "data": {
      "text/plain": [
       "<All keys matched successfully>"
      ]
     },
     "execution_count": 94,
     "metadata": {},
     "output_type": "execute_result"
    }
   ],
   "source": [
    "#저장한 파라미터 불러오기\n",
    "model2.load_state_dict(torch.load('model_weights.pth'))"
   ]
  },
  {
   "cell_type": "code",
   "execution_count": null,
   "id": "1f29ae89-e3e1-4703-a1e7-e6fad949c870",
   "metadata": {},
   "outputs": [],
   "source": [
    "#다시 test\n",
    "test_loop(testloader,model"
   ]
  }
 ],
 "metadata": {
  "kernelspec": {
   "display_name": "Python 3 (ipykernel)",
   "language": "python",
   "name": "python3"
  },
  "language_info": {
   "codemirror_mode": {
    "name": "ipython",
    "version": 3
   },
   "file_extension": ".py",
   "mimetype": "text/x-python",
   "name": "python",
   "nbconvert_exporter": "python",
   "pygments_lexer": "ipython3",
   "version": "3.7.13"
  }
 },
 "nbformat": 4,
 "nbformat_minor": 5
}
