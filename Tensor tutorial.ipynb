{
 "cells": [
  {
   "cell_type": "code",
   "execution_count": 1,
   "id": "542ca7ae-e98b-4b5a-b73d-14768be509eb",
   "metadata": {},
   "outputs": [
    {
     "name": "stdout",
     "output_type": "stream",
     "text": [
      "1.11.0\n"
     ]
    }
   ],
   "source": [
    "import torch\n",
    "print(torch.__version__)\n"
   ]
  },
  {
   "cell_type": "code",
   "execution_count": 3,
   "id": "3b9f3a98-309d-4745-83c3-e3aa82258c1f",
   "metadata": {},
   "outputs": [],
   "source": [
    "from torch import nn\n",
    "from torch.utils.data import DataLoader\n",
    "from torchvision import datasets\n",
    "from torchvision.transforms import ToTensor, Lambda, Compose\n",
    "import matplotlib.pyplot as plt\n",
    "import numpy as np"
   ]
  },
  {
   "cell_type": "code",
   "execution_count": 19,
   "id": "545c9753-0f90-4e92-9b34-d8f8abfa6582",
   "metadata": {},
   "outputs": [],
   "source": [
    "#Tensor: 배열이나 행렬과 매우 유사한 자료구조, Pytorch는 Tensor를 기본적으로 사용함"
   ]
  },
  {
   "cell_type": "code",
   "execution_count": 20,
   "id": "23d9fb38-92be-47de-9060-422fee459d71",
   "metadata": {},
   "outputs": [],
   "source": [
    "#1.list로 부터 직접 Tensor생성하기"
   ]
  },
  {
   "cell_type": "code",
   "execution_count": 23,
   "id": "714643e3-dbf9-4a49-bdb5-cff61ea51fd8",
   "metadata": {},
   "outputs": [
    {
     "name": "stdout",
     "output_type": "stream",
     "text": [
      "[[1, 2], [3, 4]]\n",
      "<class 'list'>\n"
     ]
    }
   ],
   "source": [
    "data=[[1,2],[3,4]]\n",
    "print(data)\n",
    "print(type(data)) #list형태의 data 생성"
   ]
  },
  {
   "cell_type": "code",
   "execution_count": 25,
   "id": "d5d5ed7a-541a-4454-9f76-072fff48fe6f",
   "metadata": {},
   "outputs": [
    {
     "name": "stdout",
     "output_type": "stream",
     "text": [
      "tensor([[1, 2],\n",
      "        [3, 4]])\n",
      "<class 'torch.Tensor'>\n"
     ]
    }
   ],
   "source": [
    "x_data=torch.tensor(data)\n",
    "print(x_data)\n",
    "print(type(x_data))"
   ]
  },
  {
   "cell_type": "code",
   "execution_count": 26,
   "id": "da2b3be5-b96b-4b3c-99c5-778f61d0ca61",
   "metadata": {},
   "outputs": [],
   "source": [
    "#2.np.array->tensor"
   ]
  },
  {
   "cell_type": "code",
   "execution_count": 28,
   "id": "eb69f1d3-6fa0-40c2-afa5-9022bd7da87d",
   "metadata": {},
   "outputs": [
    {
     "name": "stdout",
     "output_type": "stream",
     "text": [
      "[[1 2]\n",
      " [3 4]]\n"
     ]
    },
    {
     "data": {
      "text/plain": [
       "numpy.ndarray"
      ]
     },
     "execution_count": 28,
     "metadata": {},
     "output_type": "execute_result"
    }
   ],
   "source": [
    "data1=np.array(data)\n",
    "print(data1)\n",
    "type(data1)"
   ]
  },
  {
   "cell_type": "code",
   "execution_count": 31,
   "id": "5a17383d-de2a-44e9-8cd2-100e311aad1a",
   "metadata": {},
   "outputs": [
    {
     "name": "stdout",
     "output_type": "stream",
     "text": [
      "tensor([[1, 2],\n",
      "        [3, 4]], dtype=torch.int32)\n"
     ]
    }
   ],
   "source": [
    "x_data1=torch.tensor(data1)\n",
    "print(x_data1)"
   ]
  },
  {
   "cell_type": "code",
   "execution_count": 32,
   "id": "1964ca60-7005-46c7-9bea-5d9a613715bb",
   "metadata": {},
   "outputs": [
    {
     "name": "stdout",
     "output_type": "stream",
     "text": [
      "tensor([[1, 2],\n",
      "        [3, 4]], dtype=torch.int32)\n"
     ]
    }
   ],
   "source": [
    "x_data2=torch.as_tensor(data1)\n",
    "print(x_data2)"
   ]
  },
  {
   "cell_type": "code",
   "execution_count": 33,
   "id": "ea39be4d-39f0-4c4e-88da-5a3bcceca760",
   "metadata": {},
   "outputs": [
    {
     "name": "stdout",
     "output_type": "stream",
     "text": [
      "tensor([[1, 2],\n",
      "        [3, 4]], dtype=torch.int32)\n"
     ]
    }
   ],
   "source": [
    "x_data3=torch.from_numpy(data1)\n",
    "print(x_data3)"
   ]
  },
  {
   "cell_type": "code",
   "execution_count": 34,
   "id": "cbfc8300-340c-4f09-8939-dea2f97f3567",
   "metadata": {},
   "outputs": [
    {
     "name": "stdout",
     "output_type": "stream",
     "text": [
      "tensor([[5, 2],\n",
      "        [3, 4]], dtype=torch.int32)\n",
      "[[1 2]\n",
      " [3 4]]\n"
     ]
    }
   ],
   "source": [
    "x_data1[0,0]=5\n",
    "print(x_data1)\n",
    "print(data1)"
   ]
  },
  {
   "cell_type": "code",
   "execution_count": 39,
   "id": "fee57ca2-0f15-45b0-8ee3-513b4cbc97f7",
   "metadata": {},
   "outputs": [
    {
     "name": "stdout",
     "output_type": "stream",
     "text": [
      "tensor([[6, 2],\n",
      "        [3, 4]], dtype=torch.int32)\n",
      "[[6 2]\n",
      " [3 4]]\n"
     ]
    }
   ],
   "source": [
    "x_data2[0,0]=6\n",
    "print(x_data1)\n",
    "print(data1) #원래 array값의 값도 같이 바뀜"
   ]
  },
  {
   "cell_type": "code",
   "execution_count": 41,
   "id": "83f29cc3-10b3-46cb-ac9c-9ac5ec8d44d6",
   "metadata": {},
   "outputs": [
    {
     "name": "stdout",
     "output_type": "stream",
     "text": [
      "tensor([[6, 2],\n",
      "        [3, 4]], dtype=torch.int32)\n",
      "[[7 2]\n",
      " [3 4]]\n"
     ]
    }
   ],
   "source": [
    "x_data3[0,0]=7\n",
    "print(x_data1)\n",
    "print(data1) #마찬가지로 array값도 같이바뀜"
   ]
  },
  {
   "cell_type": "code",
   "execution_count": 42,
   "id": "fee63624-4f2d-4f6b-baf6-7bfc1043989b",
   "metadata": {},
   "outputs": [
    {
     "name": "stdout",
     "output_type": "stream",
     "text": [
      "[[6 2]\n",
      " [3 4]] <class 'numpy.ndarray'>\n"
     ]
    }
   ],
   "source": [
    "###numpy로바꾸기\n",
    "np_again=x_data1.numpy()\n",
    "print(np_again,type(np_again))"
   ]
  },
  {
   "cell_type": "code",
   "execution_count": 44,
   "id": "77d583d6-7085-4fef-a412-f8c589cc5b36",
   "metadata": {},
   "outputs": [
    {
     "name": "stdout",
     "output_type": "stream",
     "text": [
      "tensor([[1., 1., 1.],\n",
      "        [1., 1., 1.]])\n",
      "tensor([[0., 0., 0.],\n",
      "        [0., 0., 0.]])\n",
      "tensor([[2, 2, 2],\n",
      "        [2, 2, 2]])\n",
      "tensor([[2.1155e+23, 1.2801e-11, 2.5813e-09],\n",
      "        [8.3748e-10, 1.3107e-08, 6.3008e-10]])\n"
     ]
    }
   ],
   "source": [
    "####tensor 다루기\n",
    "a=torch.ones(2,3)\n",
    "b=torch.zeros(2,3)\n",
    "c=torch.full((2,3),2)\n",
    "d=torch.empty(2,3)\n",
    "print(a)\n",
    "print(b)\n",
    "print(c)\n",
    "print(d)\n"
   ]
  },
  {
   "cell_type": "code",
   "execution_count": 45,
   "id": "623c80be-50d4-495e-bd65-8ef2fa032626",
   "metadata": {},
   "outputs": [
    {
     "name": "stdout",
     "output_type": "stream",
     "text": [
      "tensor([[0, 0, 0],\n",
      "        [0, 0, 0]])\n",
      "tensor([[1, 1, 1],\n",
      "        [1, 1, 1]])\n",
      "tensor([[3, 3, 3],\n",
      "        [3, 3, 3]])\n",
      "tensor([[0, 0, 0],\n",
      "        [0, 0, 0]])\n"
     ]
    }
   ],
   "source": [
    "e=torch.zeros_like(c)\n",
    "f=torch.ones_like(c)\n",
    "g=torch.full_like(c,3)\n",
    "h=torch.empty_like(c)\n",
    "print(e)\n",
    "print(f)\n",
    "print(g)\n",
    "print(h)"
   ]
  },
  {
   "cell_type": "code",
   "execution_count": 46,
   "id": "371a31b8-6d39-4139-9a11-ba8b43299910",
   "metadata": {},
   "outputs": [
    {
     "name": "stdout",
     "output_type": "stream",
     "text": [
      "tensor([0, 1, 2, 3, 4, 5, 6, 7, 8, 9])\n"
     ]
    }
   ],
   "source": [
    "j=torch.arange(10)\n",
    "print(j)"
   ]
  },
  {
   "cell_type": "code",
   "execution_count": 49,
   "id": "fe8a0a78-843e-42a3-92b4-a9cb41227b2c",
   "metadata": {},
   "outputs": [
    {
     "name": "stdout",
     "output_type": "stream",
     "text": [
      "tensor([[0.7350, 0.8558],\n",
      "        [0.8511, 0.3001]])\n",
      "tensor([[ 1.6345, -1.9001],\n",
      "        [-1.2538,  0.1960]])\n"
     ]
    }
   ],
   "source": [
    "#random number만들기\n",
    "k=torch.rand(2,2) \n",
    "l=torch.randn(2,2)\n",
    "print(k)\n",
    "print(l)"
   ]
  },
  {
   "cell_type": "code",
   "execution_count": 60,
   "id": "612a2d43-ee41-4e12-8de6-7c882716c332",
   "metadata": {},
   "outputs": [
    {
     "name": "stdout",
     "output_type": "stream",
     "text": [
      "tensor([[0.0429, 0.6482, 0.1258, 0.5770],\n",
      "        [0.4023, 0.2337, 0.0664, 0.0633],\n",
      "        [0.0483, 0.0647, 0.2109, 0.4404]])\n",
      "torch.Size([3, 4])\n",
      "torch.float32\n",
      "cpu\n"
     ]
    }
   ],
   "source": [
    "#Tensor 속성\n",
    "tensor=torch.rand(3,4)\n",
    "print(tensor)\n",
    "print(tensor.shape)\n",
    "print(tensor.dtype)\n",
    "print(tensor.device)\n"
   ]
  },
  {
   "cell_type": "code",
   "execution_count": 62,
   "id": "cf73ad32-0e8d-47d3-b375-8fff3bee7f3a",
   "metadata": {},
   "outputs": [
    {
     "name": "stdout",
     "output_type": "stream",
     "text": [
      "tensor([[0.0429, 0.6482, 0.1258],\n",
      "        [0.5770, 0.4023, 0.2337],\n",
      "        [0.0664, 0.0633, 0.0483],\n",
      "        [0.0647, 0.2109, 0.4404]])\n",
      "torch.Size([4, 3])\n",
      "torch.float32\n",
      "cuda:0\n"
     ]
    }
   ],
   "source": [
    "#속성변경\n",
    "tensor=tensor.reshape(4,3)\n",
    "print(tensor)\n",
    "\n",
    "if torch.cuda.is_available():\n",
    "    tensor=tensor.to('cuda') #gpu로 변경\n",
    "    \n",
    "print(tensor.shape)\n",
    "print(tensor.dtype)\n",
    "print(tensor.device)"
   ]
  },
  {
   "cell_type": "code",
   "execution_count": 63,
   "id": "3fd455c6-c87b-41b0-9786-3231b596b139",
   "metadata": {},
   "outputs": [
    {
     "name": "stdout",
     "output_type": "stream",
     "text": [
      "tensor([[ 1,  2,  3,  4],\n",
      "        [ 5,  6,  7,  8],\n",
      "        [ 9, 10, 11, 12]])\n",
      "tensor([5, 6, 7, 8])\n",
      "tensor(4)\n"
     ]
    }
   ],
   "source": [
    "#indexing sliceing\n",
    "\n",
    "a=torch.arange(1,13).reshape(3,4)\n",
    "print(a)\n",
    "\n",
    "#indexing\n",
    "print(a[1])\n",
    "print(a[0,-1])"
   ]
  },
  {
   "cell_type": "code",
   "execution_count": 76,
   "id": "87a11e1c-fc15-4a38-b2bb-988ffd91db64",
   "metadata": {},
   "outputs": [
    {
     "name": "stdout",
     "output_type": "stream",
     "text": [
      "tensor([[ 5,  6,  7,  8],\n",
      "        [ 9, 10, 11, 12]])\n",
      "tensor(6)\n"
     ]
    }
   ],
   "source": [
    "#slicing\n",
    "print(a[1:3])\n",
    "print(a[1,-3])"
   ]
  },
  {
   "cell_type": "code",
   "execution_count": 77,
   "id": "d38d3305-9167-4600-9070-b372ca2d1d82",
   "metadata": {},
   "outputs": [
    {
     "name": "stdout",
     "output_type": "stream",
     "text": [
      "tensor([[5, 6, 7, 8]])\n",
      "tensor([[3, 4],\n",
      "        [7, 8]])\n"
     ]
    }
   ],
   "source": [
    "#slicing\n",
    "print(a[1:-1])\n",
    "print(a[:2,2:])"
   ]
  },
  {
   "cell_type": "code",
   "execution_count": 78,
   "id": "2ebdf988-ed6e-4ef8-badd-79547e9da5bd",
   "metadata": {},
   "outputs": [],
   "source": [
    "#Transpose\n",
    "\n",
    "a=torch.arange(16).reshape(2,2,4)"
   ]
  },
  {
   "cell_type": "code",
   "execution_count": 82,
   "id": "adbdbc52-1779-4172-81eb-b2abe21dfd5f",
   "metadata": {},
   "outputs": [
    {
     "name": "stdout",
     "output_type": "stream",
     "text": [
      "tensor([[[ 0,  1,  2,  3],\n",
      "         [ 4,  5,  6,  7]],\n",
      "\n",
      "        [[ 8,  9, 10, 11],\n",
      "         [12, 13, 14, 15]]]) torch.Size([2, 2, 4])\n"
     ]
    }
   ],
   "source": [
    "print(a,a.shape)"
   ]
  },
  {
   "cell_type": "code",
   "execution_count": 80,
   "id": "e02f736a-14f6-4bf1-9715-436e3752f124",
   "metadata": {},
   "outputs": [
    {
     "name": "stdout",
     "output_type": "stream",
     "text": [
      "tensor([[[ 0,  4],\n",
      "         [ 1,  5],\n",
      "         [ 2,  6],\n",
      "         [ 3,  7]],\n",
      "\n",
      "        [[ 8, 12],\n",
      "         [ 9, 13],\n",
      "         [10, 14],\n",
      "         [11, 15]]]) torch.Size([2, 4, 2])\n"
     ]
    }
   ],
   "source": [
    "b=a.transpose(1,2) #2와 4를 바꿔서->torch.size([2,2,4])->torch.size(2,4,2)로 바꿔줌\n",
    "print(b,b.shape)"
   ]
  },
  {
   "cell_type": "code",
   "execution_count": 89,
   "id": "165b1a6b-2b43-4a3b-bfe9-a0878dc59af6",
   "metadata": {},
   "outputs": [
    {
     "name": "stdout",
     "output_type": "stream",
     "text": [
      "tensor([[[ 0,  4],\n",
      "         [ 8, 12]],\n",
      "\n",
      "        [[ 1,  5],\n",
      "         [ 9, 13]],\n",
      "\n",
      "        [[ 2,  6],\n",
      "         [10, 14]],\n",
      "\n",
      "        [[ 3,  7],\n",
      "         [11, 15]]]) torch.Size([4, 2, 2])\n"
     ]
    }
   ],
   "source": [
    "c=a.permute((2,0,1))\n",
    "print(c,c.shape)"
   ]
  },
  {
   "cell_type": "code",
   "execution_count": 90,
   "id": "2f1b514b-2cc5-498a-892e-e5e7516ad517",
   "metadata": {},
   "outputs": [
    {
     "name": "stdout",
     "output_type": "stream",
     "text": [
      "tensor([[1., 2.],\n",
      "        [3., 4.]])\n",
      "tensor([[5., 6.],\n",
      "        [7., 8.]])\n"
     ]
    }
   ],
   "source": [
    "#Tensor연산\n",
    "\n",
    "x=torch.tensor([[1,2],[3,4]],dtype=torch.float32)\n",
    "y=torch.tensor([[5,6],[7,8]],dtype=torch.float32)\n",
    "print(x)\n",
    "print(y)"
   ]
  },
  {
   "cell_type": "code",
   "execution_count": 92,
   "id": "c68d3f3f-f8b9-4bb5-a4ac-d0f9dd1c993b",
   "metadata": {},
   "outputs": [
    {
     "name": "stdout",
     "output_type": "stream",
     "text": [
      "tensor([[ 6.,  8.],\n",
      "        [10., 12.]])\n",
      "tensor([[-4., -4.],\n",
      "        [-4., -4.]])\n",
      "tensor([[ 5., 12.],\n",
      "        [21., 32.]])\n",
      "tensor([[0.2000, 0.3333],\n",
      "        [0.4286, 0.5000]])\n"
     ]
    }
   ],
   "source": [
    "print(x+y)\n",
    "print(x-y)\n",
    "print(x*y)\n",
    "print(x/y)"
   ]
  },
  {
   "cell_type": "code",
   "execution_count": 93,
   "id": "b0a59b0b-586d-4eeb-9360-e632e2aabe4d",
   "metadata": {},
   "outputs": [
    {
     "name": "stdout",
     "output_type": "stream",
     "text": [
      "tensor([[19., 22.],\n",
      "        [43., 50.]])\n"
     ]
    }
   ],
   "source": [
    "print(x@y)"
   ]
  },
  {
   "cell_type": "code",
   "execution_count": 94,
   "id": "3aa01812-de67-4757-9745-b659dadee8b2",
   "metadata": {},
   "outputs": [
    {
     "name": "stdout",
     "output_type": "stream",
     "text": [
      "tensor([[ 1,  2,  3,  4,  5],\n",
      "        [ 6,  7,  8,  9, 10]])\n"
     ]
    }
   ],
   "source": [
    "z=torch.arange(1,11).reshape(2,5)\n",
    "print(z)"
   ]
  },
  {
   "cell_type": "code",
   "execution_count": 95,
   "id": "efc35384-ac2b-48e0-ba0b-a3c6504367d2",
   "metadata": {},
   "outputs": [
    {
     "name": "stdout",
     "output_type": "stream",
     "text": [
      "tensor([ 7,  9, 11, 13, 15])\n"
     ]
    }
   ],
   "source": [
    "sum1=torch.sum(z,axis=0)\n",
    "print(sum1)"
   ]
  },
  {
   "cell_type": "code",
   "execution_count": 96,
   "id": "6493c380-5659-4389-a801-5d141163b5db",
   "metadata": {},
   "outputs": [
    {
     "name": "stdout",
     "output_type": "stream",
     "text": [
      "tensor([15, 40])\n"
     ]
    }
   ],
   "source": [
    "sum2=torch.sum(z,axis=1)\n",
    "print(sum2)"
   ]
  },
  {
   "cell_type": "code",
   "execution_count": 98,
   "id": "ca02fc0d-5cc8-4c23-acb0-445472491e46",
   "metadata": {},
   "outputs": [
    {
     "name": "stdout",
     "output_type": "stream",
     "text": [
      "tensor([15, 40]) torch.Size([2])\n"
     ]
    }
   ],
   "source": [
    "sum3=torch.sum(z,axis=-1)\n",
    "print(sum3,sum3.shape)"
   ]
  },
  {
   "cell_type": "code",
   "execution_count": 101,
   "id": "9fc832b6-cfbc-4f84-8c31-69c33bcef868",
   "metadata": {},
   "outputs": [
    {
     "name": "stdout",
     "output_type": "stream",
     "text": [
      "tensor([[ 0,  1,  2,  3,  4,  5],\n",
      "        [ 6,  7,  8,  9, 10, 11],\n",
      "        [12, 13, 14, 15, 16, 17],\n",
      "        [18, 19, 20, 21, 22, 23]])\n"
     ]
    }
   ],
   "source": [
    "#torch 복사\n",
    "a=torch.arange(24).reshape(4,6)\n",
    "print(a)"
   ]
  },
  {
   "cell_type": "code",
   "execution_count": 104,
   "id": "331d63a7-ec2f-4cc0-a984-73e5be60da58",
   "metadata": {},
   "outputs": [
    {
     "name": "stdout",
     "output_type": "stream",
     "text": [
      "tensor([[ 0,  1,  2,  3,  4,  5],\n",
      "        [ 6,  7,  8,  9, 10, 11],\n",
      "        [12, 13, 14, 15, 16, 17],\n",
      "        [18, 19, 20, 21, 22, 23]]) torch.Size([4, 6])\n",
      "tensor([[ 0,  1,  2,  3,  4,  5],\n",
      "        [ 6,  7,  8,  9, 10, 11],\n",
      "        [12, 13, 14, 15, 16, 17],\n",
      "        [18, 19, 20, 21, 22, 23]]) torch.Size([4, 6])\n"
     ]
    }
   ],
   "source": [
    "b=a.clone().detach()\n",
    "print(a,a.shape)\n",
    "print(b,b.shape)"
   ]
  },
  {
   "cell_type": "code",
   "execution_count": 105,
   "id": "a5c36ac1-345d-4845-a224-a20dcd468c3d",
   "metadata": {},
   "outputs": [],
   "source": [
    "#concat, stack\n",
    "#concat=cat함수는 concatenate를 해주는 함수이고 concatenate하고자 하는 차원을 증가시킨다->tensor합치기라고 생각\n",
    "#stack=stack함수는 지정하는 차원으로 확장하여 tensor를 쌓아주는 함수이다. (지정하는 차원에 새로운 차원이 생긴다=차원의 수가 증가한다)"
   ]
  },
  {
   "cell_type": "code",
   "execution_count": 106,
   "id": "e1dec006-e8c2-43a5-9654-adef22ca20c4",
   "metadata": {},
   "outputs": [],
   "source": [
    "c=torch.cat([a,b],axis=0) #행기준으로 rowbind"
   ]
  },
  {
   "cell_type": "code",
   "execution_count": 107,
   "id": "1f428bd1-213d-4913-991d-5f27cd016a86",
   "metadata": {},
   "outputs": [
    {
     "name": "stdout",
     "output_type": "stream",
     "text": [
      "tensor([[ 0,  1,  2,  3,  4,  5],\n",
      "        [ 6,  7,  8,  9, 10, 11],\n",
      "        [12, 13, 14, 15, 16, 17],\n",
      "        [18, 19, 20, 21, 22, 23],\n",
      "        [ 0,  1,  2,  3,  4,  5],\n",
      "        [ 6,  7,  8,  9, 10, 11],\n",
      "        [12, 13, 14, 15, 16, 17],\n",
      "        [18, 19, 20, 21, 22, 23]])\n"
     ]
    }
   ],
   "source": [
    "print(c)"
   ]
  },
  {
   "cell_type": "code",
   "execution_count": 110,
   "id": "080896f8-93bf-495f-b09c-37e06e68dff5",
   "metadata": {},
   "outputs": [],
   "source": [
    "c=torch.cat([a,b],axis=-1) #열기준으로 rowbind"
   ]
  },
  {
   "cell_type": "code",
   "execution_count": 111,
   "id": "1158d0af-b522-418c-9cba-9886d1bdce00",
   "metadata": {},
   "outputs": [
    {
     "name": "stdout",
     "output_type": "stream",
     "text": [
      "tensor([[ 0,  1,  2,  3,  4,  5,  0,  1,  2,  3,  4,  5],\n",
      "        [ 6,  7,  8,  9, 10, 11,  6,  7,  8,  9, 10, 11],\n",
      "        [12, 13, 14, 15, 16, 17, 12, 13, 14, 15, 16, 17],\n",
      "        [18, 19, 20, 21, 22, 23, 18, 19, 20, 21, 22, 23]])\n"
     ]
    }
   ],
   "source": [
    "print(c)"
   ]
  },
  {
   "cell_type": "code",
   "execution_count": 117,
   "id": "66692548-ed9f-4cb5-a022-74e37f5bf678",
   "metadata": {},
   "outputs": [
    {
     "name": "stdout",
     "output_type": "stream",
     "text": [
      "tensor([[[ 0,  1,  2,  3,  4,  5],\n",
      "         [ 6,  7,  8,  9, 10, 11],\n",
      "         [12, 13, 14, 15, 16, 17],\n",
      "         [18, 19, 20, 21, 22, 23]],\n",
      "\n",
      "        [[ 0,  1,  2,  3,  4,  5],\n",
      "         [ 6,  7,  8,  9, 10, 11],\n",
      "         [12, 13, 14, 15, 16, 17],\n",
      "         [18, 19, 20, 21, 22, 23]]]) torch.Size([2, 4, 6])\n"
     ]
    }
   ],
   "source": [
    "d=torch.stack([a,b],axis=0)\n",
    "print(d,d.shape) #2개의 4x6 tensor"
   ]
  },
  {
   "cell_type": "code",
   "execution_count": 118,
   "id": "f3b56b10-685a-4e25-a9c8-34c60a66a6d2",
   "metadata": {},
   "outputs": [
    {
     "name": "stdout",
     "output_type": "stream",
     "text": [
      "tensor([[[ 0,  1,  2,  3,  4,  5],\n",
      "         [ 0,  1,  2,  3,  4,  5]],\n",
      "\n",
      "        [[ 6,  7,  8,  9, 10, 11],\n",
      "         [ 6,  7,  8,  9, 10, 11]],\n",
      "\n",
      "        [[12, 13, 14, 15, 16, 17],\n",
      "         [12, 13, 14, 15, 16, 17]],\n",
      "\n",
      "        [[18, 19, 20, 21, 22, 23],\n",
      "         [18, 19, 20, 21, 22, 23]]]) torch.Size([4, 2, 6])\n"
     ]
    }
   ],
   "source": [
    "d=torch.stack([a,b],axis=1)\n",
    "print(d,d.shape) #4개의 2x6 tensor"
   ]
  },
  {
   "cell_type": "code",
   "execution_count": 119,
   "id": "b14f83ec-3143-431c-83e7-bf40fd72eabd",
   "metadata": {},
   "outputs": [
    {
     "name": "stdout",
     "output_type": "stream",
     "text": [
      "tensor([[[ 0,  0],\n",
      "         [ 1,  1],\n",
      "         [ 2,  2],\n",
      "         [ 3,  3],\n",
      "         [ 4,  4],\n",
      "         [ 5,  5]],\n",
      "\n",
      "        [[ 6,  6],\n",
      "         [ 7,  7],\n",
      "         [ 8,  8],\n",
      "         [ 9,  9],\n",
      "         [10, 10],\n",
      "         [11, 11]],\n",
      "\n",
      "        [[12, 12],\n",
      "         [13, 13],\n",
      "         [14, 14],\n",
      "         [15, 15],\n",
      "         [16, 16],\n",
      "         [17, 17]],\n",
      "\n",
      "        [[18, 18],\n",
      "         [19, 19],\n",
      "         [20, 20],\n",
      "         [21, 21],\n",
      "         [22, 22],\n",
      "         [23, 23]]]) torch.Size([4, 6, 2])\n"
     ]
    }
   ],
   "source": [
    "d=torch.stack([a,b],axis=-1)\n",
    "print(d,d.shape)"
   ]
  },
  {
   "cell_type": "code",
   "execution_count": null,
   "id": "6250cd9d-bcf5-49cb-87e3-a7e6649daf01",
   "metadata": {},
   "outputs": [],
   "source": []
  }
 ],
 "metadata": {
  "kernelspec": {
   "display_name": "Python 3 (ipykernel)",
   "language": "python",
   "name": "python3"
  },
  "language_info": {
   "codemirror_mode": {
    "name": "ipython",
    "version": 3
   },
   "file_extension": ".py",
   "mimetype": "text/x-python",
   "name": "python",
   "nbconvert_exporter": "python",
   "pygments_lexer": "ipython3",
   "version": "3.7.13"
  }
 },
 "nbformat": 4,
 "nbformat_minor": 5
}
