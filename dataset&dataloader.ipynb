{
 "cells": [
  {
   "cell_type": "code",
   "execution_count": 2,
   "id": "ceee31fd-f54a-41fe-9c38-6e5ab8b99d3e",
   "metadata": {},
   "outputs": [],
   "source": [
    "#Dataset/Dataloader 실습"
   ]
  },
  {
   "cell_type": "code",
   "execution_count": 3,
   "id": "696a0d1a-2047-4421-83fb-920e34ad40b9",
   "metadata": {},
   "outputs": [],
   "source": [
    "#Dataset=data와 label저장\n",
    "#Dataloader=iterable한 객체로 감싸줘서 모델에 공급될 수 있도록 데이터 불러옴"
   ]
  },
  {
   "cell_type": "code",
   "execution_count": 4,
   "id": "ddb65452-e6c3-463c-9085-fce477824e70",
   "metadata": {},
   "outputs": [],
   "source": [
    "#library import\n",
    "\n",
    "import torch\n",
    "import torchvision.transforms as transforms"
   ]
  },
  {
   "cell_type": "code",
   "execution_count": 5,
   "id": "6b83289f-b312-4866-8b81-c4ef574a7ee6",
   "metadata": {},
   "outputs": [],
   "source": [
    "import torchvision"
   ]
  },
  {
   "cell_type": "code",
   "execution_count": 6,
   "id": "b096c0cc-2c38-4998-a472-a8a9fb30ee1b",
   "metadata": {},
   "outputs": [
    {
     "data": {
      "text/plain": [
       "<torch._C.Generator at 0x240e6cc9f10>"
      ]
     },
     "execution_count": 6,
     "metadata": {},
     "output_type": "execute_result"
    }
   ],
   "source": [
    "# 고정\n",
    "torch.manual_seed(42)"
   ]
  },
  {
   "cell_type": "code",
   "execution_count": 7,
   "id": "83311b44-f7bd-40d2-b5d3-3f7984d177b7",
   "metadata": {},
   "outputs": [],
   "source": [
    "###########data Transform\n",
    "\n",
    "transform = transforms.Compose( \n",
    "    [transforms.ToTensor(), #이미지가 0~1사이 값으로 변경->파이토치를 사용해서 분석을 진행하기 위해서는 이미지를 텐서로 변환하여 모델에 적용\n",
    "     transforms.Normalize((0.5), (0.5))] #-1~1사이의 값으로 정규화 시킴 이미지마다 명도,채도등 다르기때문에 이미지를 동일한 환경에 맞춰줌 #channel이 한개이기 때문에 한개의 채널에만 적용\n",
    ")"
   ]
  },
  {
   "cell_type": "code",
   "execution_count": 8,
   "id": "8bdd8a58-0aad-4648-8de2-34d061748c6f",
   "metadata": {},
   "outputs": [],
   "source": [
    "##Dataset 저장\n",
    "\n",
    "train_data=torchvision.datasets.FashionMNIST(\n",
    "    root='./data',\n",
    "    train=True,\n",
    "    download=True,\n",
    "    transform=transform #tensor로 변환\n",
    ")\n",
    "\n",
    "test_data=torchvision.datasets.FashionMNIST(\n",
    "    root='./data',\n",
    "    train=False,\n",
    "    download=True,\n",
    "    transform=transform #tensor로 변환\n",
    ")"
   ]
  },
  {
   "cell_type": "code",
   "execution_count": 9,
   "id": "f5fa3cb7-4b3c-4191-bf95-4775d7424ec6",
   "metadata": {},
   "outputs": [],
   "source": [
    "##EDA\n",
    "import matplotlib.pyplot as plt"
   ]
  },
  {
   "cell_type": "code",
   "execution_count": 10,
   "id": "c4999dbd-3857-4182-96b4-76b1a93c7227",
   "metadata": {
    "collapsed": true,
    "jupyter": {
     "outputs_hidden": true
    },
    "tags": []
   },
   "outputs": [
    {
     "data": {
      "text/plain": [
       "['__add__',\n",
       " '__class__',\n",
       " '__class_getitem__',\n",
       " '__delattr__',\n",
       " '__dict__',\n",
       " '__dir__',\n",
       " '__doc__',\n",
       " '__eq__',\n",
       " '__format__',\n",
       " '__ge__',\n",
       " '__getattribute__',\n",
       " '__getitem__',\n",
       " '__gt__',\n",
       " '__hash__',\n",
       " '__init__',\n",
       " '__init_subclass__',\n",
       " '__le__',\n",
       " '__len__',\n",
       " '__lt__',\n",
       " '__module__',\n",
       " '__ne__',\n",
       " '__new__',\n",
       " '__orig_bases__',\n",
       " '__parameters__',\n",
       " '__reduce__',\n",
       " '__reduce_ex__',\n",
       " '__repr__',\n",
       " '__setattr__',\n",
       " '__sizeof__',\n",
       " '__slots__',\n",
       " '__str__',\n",
       " '__subclasshook__',\n",
       " '__weakref__',\n",
       " '_check_exists',\n",
       " '_check_legacy_exist',\n",
       " '_format_transform_repr',\n",
       " '_load_data',\n",
       " '_load_legacy_data',\n",
       " '_repr_indent',\n",
       " 'class_to_idx',\n",
       " 'classes',\n",
       " 'data',\n",
       " 'download',\n",
       " 'extra_repr',\n",
       " 'mirrors',\n",
       " 'processed_folder',\n",
       " 'raw_folder',\n",
       " 'resources',\n",
       " 'root',\n",
       " 'target_transform',\n",
       " 'targets',\n",
       " 'test_data',\n",
       " 'test_file',\n",
       " 'test_labels',\n",
       " 'train',\n",
       " 'train_data',\n",
       " 'train_labels',\n",
       " 'training_file',\n",
       " 'transform',\n",
       " 'transforms']"
      ]
     },
     "execution_count": 10,
     "metadata": {},
     "output_type": "execute_result"
    }
   ],
   "source": [
    "dir(train_data) #변수확인&매소드확인"
   ]
  },
  {
   "cell_type": "code",
   "execution_count": 11,
   "id": "258e3366-e59c-45aa-8689-88ad05eced7e",
   "metadata": {
    "collapsed": true,
    "jupyter": {
     "outputs_hidden": true
    },
    "tags": []
   },
   "outputs": [
    {
     "data": {
      "text/plain": [
       "(tensor([[[-1.0000, -1.0000, -1.0000, -1.0000, -1.0000, -1.0000, -1.0000,\n",
       "           -1.0000, -1.0000, -1.0000, -1.0000, -1.0000, -1.0000, -1.0000,\n",
       "           -1.0000, -1.0000, -1.0000, -1.0000, -1.0000, -1.0000, -1.0000,\n",
       "           -1.0000, -1.0000, -1.0000, -1.0000, -1.0000, -1.0000, -1.0000],\n",
       "          [-1.0000, -1.0000, -1.0000, -1.0000, -1.0000, -1.0000, -1.0000,\n",
       "           -1.0000, -1.0000, -1.0000, -1.0000, -1.0000, -1.0000, -1.0000,\n",
       "           -1.0000, -1.0000, -1.0000, -1.0000, -1.0000, -1.0000, -1.0000,\n",
       "           -1.0000, -1.0000, -1.0000, -1.0000, -1.0000, -1.0000, -1.0000],\n",
       "          [-1.0000, -1.0000, -1.0000, -1.0000, -1.0000, -1.0000, -1.0000,\n",
       "           -1.0000, -1.0000, -1.0000, -1.0000, -1.0000, -1.0000, -1.0000,\n",
       "           -1.0000, -1.0000, -1.0000, -1.0000, -1.0000, -1.0000, -1.0000,\n",
       "           -1.0000, -1.0000, -1.0000, -1.0000, -1.0000, -1.0000, -1.0000],\n",
       "          [-1.0000, -1.0000, -1.0000, -1.0000, -1.0000, -1.0000, -1.0000,\n",
       "           -1.0000, -1.0000, -1.0000, -1.0000, -1.0000, -0.9922, -1.0000,\n",
       "           -1.0000, -0.8980, -0.4275, -1.0000, -1.0000, -0.9922, -0.9686,\n",
       "           -1.0000, -1.0000, -1.0000, -1.0000, -0.9922, -0.9922, -1.0000],\n",
       "          [-1.0000, -1.0000, -1.0000, -1.0000, -1.0000, -1.0000, -1.0000,\n",
       "           -1.0000, -1.0000, -1.0000, -1.0000, -1.0000, -0.9765, -1.0000,\n",
       "           -0.7176,  0.0667, -0.0039, -0.5137, -0.5765, -1.0000, -1.0000,\n",
       "           -1.0000, -0.9922, -0.9765, -0.9686, -1.0000, -1.0000, -0.9765],\n",
       "          [-1.0000, -1.0000, -1.0000, -1.0000, -1.0000, -1.0000, -1.0000,\n",
       "           -1.0000, -1.0000, -1.0000, -1.0000, -1.0000, -0.9529, -1.0000,\n",
       "           -0.2000,  0.6000,  0.3804,  0.0510,  0.1294, -0.0353, -0.8196,\n",
       "           -1.0000, -1.0000, -1.0000, -1.0000, -0.9059, -0.9216, -1.0000],\n",
       "          [-1.0000, -1.0000, -1.0000, -1.0000, -1.0000, -1.0000, -1.0000,\n",
       "           -1.0000, -1.0000, -1.0000, -1.0000, -1.0000, -1.0000, -1.0000,\n",
       "            0.2157,  0.8510,  0.6235,  0.3961, -0.1608,  0.2235,  0.2627,\n",
       "           -0.1451, -0.4980, -0.8196, -0.3961,  0.0196, -0.4353, -0.8824],\n",
       "          [-1.0000, -1.0000, -1.0000, -1.0000, -1.0000, -1.0000, -1.0000,\n",
       "           -1.0000, -1.0000, -1.0000, -1.0000, -0.9922, -1.0000, -0.4588,\n",
       "            0.6235,  0.7490,  0.7098,  0.6941,  0.6941,  0.2784, -0.0039,\n",
       "           -0.0510, -0.0431,  0.1451,  0.1059, -0.3098,  0.3490, -0.4824],\n",
       "          [-1.0000, -1.0000, -1.0000, -1.0000, -1.0000, -1.0000, -1.0000,\n",
       "           -1.0000, -1.0000, -0.9922, -0.9922, -0.9922, -1.0000,  0.5686,\n",
       "            0.8196,  0.8196,  0.8275,  0.7961,  0.7490,  0.7490,  0.6863,\n",
       "            0.6706,  0.2863, -0.0039, -0.0353,  0.5373,  0.7961, -1.0000],\n",
       "          [-1.0000, -1.0000, -1.0000, -1.0000, -1.0000, -1.0000, -1.0000,\n",
       "           -1.0000, -1.0000, -1.0000, -1.0000, -1.0000, -1.0000,  0.4353,\n",
       "            0.7647,  0.6941,  0.7490,  0.7882,  0.8431,  0.7804,  0.7569,\n",
       "            0.7412,  0.7569,  0.7333,  0.7490,  0.9216,  0.3569, -1.0000],\n",
       "          [-1.0000, -1.0000, -1.0000, -1.0000, -1.0000, -1.0000, -1.0000,\n",
       "           -1.0000, -1.0000, -1.0000, -1.0000, -1.0000, -1.0000,  0.5137,\n",
       "            0.7882,  0.7098,  0.6706,  0.5529,  0.4118,  0.6627,  0.6471,\n",
       "            0.6549,  0.6706,  0.7490,  0.7255,  0.9059,  0.5843, -1.0000],\n",
       "          [-1.0000, -1.0000, -1.0000, -1.0000, -1.0000, -1.0000, -1.0000,\n",
       "           -1.0000, -1.0000, -0.9922, -0.9765, -1.0000, -0.9059,  0.7176,\n",
       "            0.7255,  0.6627,  0.7098,  0.5059,  0.3255,  0.7804,  0.6314,\n",
       "            0.7098,  0.7569,  0.6627,  0.7725,  0.5451,  0.6392, -0.5922],\n",
       "          [-1.0000, -1.0000, -1.0000, -1.0000, -1.0000, -1.0000, -1.0000,\n",
       "           -1.0000, -1.0000, -1.0000, -0.9529, -1.0000, -0.2235,  0.9137,\n",
       "            0.7412,  0.7255,  0.7098,  0.5922,  0.5529,  0.7333,  0.6863,\n",
       "            0.6706,  0.7412,  0.7255,  0.9216, -0.0667,  0.3098, -0.5608],\n",
       "          [-1.0000, -1.0000, -1.0000, -1.0000, -1.0000, -1.0000, -1.0000,\n",
       "           -1.0000, -1.0000, -0.9686, -1.0000, -1.0000, -0.5686,  0.8510,\n",
       "            0.7882,  0.8039,  0.7882,  0.8824,  0.8196,  0.6706,  0.7098,\n",
       "            0.7490,  0.8353,  0.7020,  0.7020,  0.6392, -0.2784, -1.0000],\n",
       "          [-1.0000, -1.0000, -0.9922, -0.9686, -0.9529, -0.9451, -0.9843,\n",
       "           -1.0000, -1.0000, -1.0000, -1.0000, -1.0000,  0.8588,  0.7725,\n",
       "            0.7020,  0.7490,  0.7412,  0.7176,  0.7412,  0.7333,  0.6941,\n",
       "            0.7490,  0.7961,  0.6863,  0.7098,  1.0000, -0.3961, -1.0000],\n",
       "          [-1.0000, -0.9765, -1.0000, -1.0000, -1.0000, -1.0000, -1.0000,\n",
       "           -1.0000, -1.0000, -0.5137,  0.1373,  0.6000,  0.7882,  0.6235,\n",
       "            0.6706,  0.7333,  0.7098,  0.6314,  0.6549,  0.7098,  0.7569,\n",
       "            0.7490,  0.7176,  0.6863,  0.7569,  0.9137,  0.2471, -1.0000],\n",
       "          [-1.0000, -1.0000, -1.0000, -1.0000, -0.8588, -0.6549, -0.3569,\n",
       "           -0.1608,  0.4824,  0.7882,  0.7255,  0.7412,  0.7020,  0.7725,\n",
       "            0.5686,  0.6078,  0.6549,  0.8039,  0.7569,  0.8353,  0.3804,\n",
       "            0.4745,  0.9608,  0.9451,  0.8275,  0.8667,  0.6863, -1.0000],\n",
       "          [-1.0000, -0.5529,  0.4667,  0.6314,  0.7569,  0.7333,  0.7569,\n",
       "            0.6314,  0.6000,  0.6784,  0.6314,  0.6392,  0.5686,  0.2471,\n",
       "            0.9216,  0.5137,  0.6157,  0.7490,  1.0000,  1.0000,  0.7333,\n",
       "            0.8353,  0.7333,  0.6549,  0.7255,  0.8196,  0.9294, -1.0000],\n",
       "          [-0.9765,  0.5843,  0.7882,  0.7569,  0.7333,  0.6549,  0.6549,\n",
       "            0.6784,  0.6078,  0.6078,  0.6078,  0.7255,  0.8824, -0.3725,\n",
       "            0.1765,  1.0000,  0.7961,  0.7333,  0.4745,  0.2078,  0.4980,\n",
       "            0.6471,  0.6000,  0.6392,  0.7412,  0.7882,  0.7647, -1.0000],\n",
       "          [-0.2314,  0.8275,  0.5529,  0.6471,  0.7412,  0.7961,  0.7961,\n",
       "            0.8353,  0.9529,  0.7255,  0.5216,  0.6863,  0.7020,  0.8902,\n",
       "           -0.4902, -0.4275, -0.1686, -0.0824,  0.3176,  0.7176,  0.7333,\n",
       "            0.6863,  0.7020,  0.7490,  0.7490,  0.7569,  0.7961, -0.7725],\n",
       "          [-0.4118,  0.6000,  0.6627,  0.6000,  0.5137,  0.6078,  0.6549,\n",
       "            0.7647,  0.6941,  0.4510,  0.5451,  0.6157,  0.5529,  0.6706,\n",
       "            0.8824,  0.5294,  0.7804,  0.9216,  0.8745,  0.7490,  0.7098,\n",
       "            0.6627,  0.6392,  0.7412,  0.7255,  0.7333,  0.8039, -0.4745],\n",
       "          [-0.6235,  0.5922,  0.4353,  0.5216,  0.6706,  0.5451,  0.4510,\n",
       "            0.4902,  0.5216,  0.5059,  0.5843,  0.6784,  0.7176,  0.7333,\n",
       "            0.7255,  0.8510,  0.7647,  0.6941,  0.5608,  0.6157,  0.4588,\n",
       "            0.4196,  0.3882,  0.3490,  0.4196,  0.6078,  0.6157, -0.0980],\n",
       "          [-1.0000, -0.0431,  0.7176,  0.5137,  0.4039,  0.3412,  0.4353,\n",
       "            0.5373,  0.6000,  0.6471,  0.6706,  0.6235,  0.6549,  0.6471,\n",
       "            0.5686,  0.5373,  0.5216,  0.4980,  0.5294,  0.4980,  0.5529,\n",
       "            0.5059,  0.3804,  0.2235,  0.3098,  0.3882,  0.6471, -0.2784],\n",
       "          [-1.0000, -1.0000, -0.4196,  0.4824,  0.6627,  0.4980,  0.3725,\n",
       "            0.3490,  0.3725,  0.4196,  0.4510,  0.4745,  0.4824,  0.4745,\n",
       "            0.5137,  0.5529,  0.6000,  0.6392,  0.6471,  0.6471,  0.6549,\n",
       "            0.4745,  0.4745,  0.5216,  0.5059,  0.6941,  0.3333, -1.0000],\n",
       "          [-0.9843, -1.0000, -1.0000, -1.0000, -0.4824,  0.5686,  0.7412,\n",
       "            0.8588,  0.8745,  0.8980,  0.9294,  0.9059,  0.9137,  0.7333,\n",
       "            0.7255,  0.5137,  0.4980,  0.4039,  0.4275,  0.4275,  0.4196,\n",
       "            0.3804,  0.3020,  0.3176, -0.2235, -0.5451, -1.0000, -1.0000],\n",
       "          [-1.0000, -1.0000, -1.0000, -1.0000, -1.0000, -1.0000, -1.0000,\n",
       "           -0.6863, -0.5216, -0.6549, -0.4353, -0.6784, -0.7255, -1.0000,\n",
       "           -1.0000, -1.0000, -1.0000, -1.0000, -1.0000, -1.0000, -1.0000,\n",
       "           -1.0000, -1.0000, -1.0000, -1.0000, -1.0000, -1.0000, -1.0000],\n",
       "          [-1.0000, -1.0000, -1.0000, -1.0000, -1.0000, -1.0000, -1.0000,\n",
       "           -1.0000, -1.0000, -1.0000, -1.0000, -1.0000, -1.0000, -1.0000,\n",
       "           -1.0000, -1.0000, -1.0000, -1.0000, -1.0000, -1.0000, -1.0000,\n",
       "           -1.0000, -1.0000, -1.0000, -1.0000, -1.0000, -1.0000, -1.0000],\n",
       "          [-1.0000, -1.0000, -1.0000, -1.0000, -1.0000, -1.0000, -1.0000,\n",
       "           -1.0000, -1.0000, -1.0000, -1.0000, -1.0000, -1.0000, -1.0000,\n",
       "           -1.0000, -1.0000, -1.0000, -1.0000, -1.0000, -1.0000, -1.0000,\n",
       "           -1.0000, -1.0000, -1.0000, -1.0000, -1.0000, -1.0000, -1.0000]]]),\n",
       " 9)"
      ]
     },
     "execution_count": 11,
     "metadata": {},
     "output_type": "execute_result"
    }
   ],
   "source": [
    "train_data[0]"
   ]
  },
  {
   "cell_type": "code",
   "execution_count": 12,
   "id": "c9d71cb4-2fca-4872-abc1-4286cecd554e",
   "metadata": {},
   "outputs": [
    {
     "name": "stdout",
     "output_type": "stream",
     "text": [
      "['T-shirt/top', 'Trouser', 'Pullover', 'Dress', 'Coat', 'Sandal', 'Shirt', 'Sneaker', 'Bag', 'Ankle boot']\n",
      "<class 'torchvision.datasets.mnist.FashionMNIST'>\n",
      "tensor([  0,   0,   0,   1,   0,   0,   0,  49, 136, 219, 216, 228, 236, 255,\n",
      "        255, 255, 255, 217, 215, 254, 231, 160,  45,   0,   0,   0,   0,   0],\n",
      "       dtype=torch.uint8)\n",
      "torch.Size([60000, 28, 28])\n"
     ]
    }
   ],
   "source": [
    "#train data\n",
    "print(train_data.classes) #클래스확인\n",
    "print(type(train_data))\n",
    "print(train_data.data[1,1])\n",
    "print(train_data.data.size()) #train set은 6만개의 28x28사이즈 이미지로 구성됨"
   ]
  },
  {
   "cell_type": "code",
   "execution_count": 13,
   "id": "c32f6e2f-3a07-4140-bc25-add3b19ad94e",
   "metadata": {},
   "outputs": [
    {
     "data": {
      "text/plain": [
       "'T-shirt/top'"
      ]
     },
     "execution_count": 13,
     "metadata": {},
     "output_type": "execute_result"
    }
   ],
   "source": [
    "trainclass=train_data.classes\n",
    "trainclass[0]"
   ]
  },
  {
   "cell_type": "code",
   "execution_count": 14,
   "id": "60b4eacb-31cf-423d-b249-da84d68d9af4",
   "metadata": {},
   "outputs": [
    {
     "name": "stdout",
     "output_type": "stream",
     "text": [
      "{0: 'T-shirt/top', 1: 'Trouser', 2: 'Pullover', 3: 'Dress', 4: 'Coat', 5: 'Sandal', 6: 'Shirt', 7: 'Sneaker', 8: 'Bag', 9: 'Ankle boot'}\n",
      "T-shirt/top\n"
     ]
    }
   ],
   "source": [
    "#Data EDA\n",
    "#class dictionary\n",
    "labels_map={\n",
    "    0: trainclass[0],\n",
    "    1: trainclass[1],\n",
    "    2: trainclass[2],\n",
    "    3: trainclass[3],\n",
    "    4: trainclass[4],\n",
    "    5: trainclass[5],\n",
    "    6: trainclass[6],\n",
    "    7: trainclass[7],\n",
    "    8: trainclass[8],\n",
    "    9: trainclass[9],\n",
    "}\n",
    "\n",
    "print(labels_map)\n",
    "print(labels_map[0])"
   ]
  },
  {
   "cell_type": "code",
   "execution_count": 15,
   "id": "e5536794-8aed-4e36-acfa-60dc0ad74bae",
   "metadata": {},
   "outputs": [
    {
     "data": {
      "image/png": "[encoded data removed]",
      "text/plain": [
       "<Figure size 720x720 with 9 Axes>"
      ]
     },
     "metadata": {
      "needs_background": "light"
     },
     "output_type": "display_data"
    }
   ],
   "source": [
    "figure=plt.figure(figsize=(10,10)) #plt.figure()는 새로운 figure를 생성해준다\n",
    "\n",
    "cols, rows= 3,3\n",
    "\n",
    "for i in range(1,cols*rows+1):\n",
    "    sample_idx=torch.randint(len(train_data),size=(1,)).item() #1~60000중 랜덤숫자 추출\n",
    "    img, label= train_data[sample_idx] #첫번째 텐서값을 이미지, 두번째 정수값을->라벨값으로\n",
    "    figure.add_subplot(rows,cols,i) #figure.add_subplot(3,3,1),,,figure.add_subplot(3,3,9) 순서대로 이미지 나타내줌 key, value값\n",
    "    plt.title(labels_map[label]) #해당라벨에대해서 label_map dic에서 텍스트값 추출\n",
    "    plt.axis('off') #axis제거\n",
    "    plt.imshow(img.squeeze(),cmap='gray') #squeeze->차원이 1인 차원을 제거해줌, cmap='이미지컬러' ex) x=torch.ones(10,5,1,3,1)->x.squeeze()->torch.ones(10,5,3)으로 바꿔줌 바꿔주는 이유는? 차원을 축소하여 그래프를 알맞게 그리기 위함.\n",
    "plt.show()"
   ]
  },
  {
   "cell_type": "code",
   "execution_count": 16,
   "id": "116a864c-cbca-4e60-aaa7-df6dd7a97b78",
   "metadata": {},
   "outputs": [
    {
     "name": "stdout",
     "output_type": "stream",
     "text": [
      "['T-shirt/top', 'Trouser', 'Pullover', 'Dress', 'Coat', 'Sandal', 'Shirt', 'Sneaker', 'Bag', 'Ankle boot']\n",
      "<class 'torchvision.datasets.mnist.FashionMNIST'>\n",
      "tensor([  0,   0,   0,   0,   0,   0,   0,   8, 120, 209, 226, 247, 237, 255,\n",
      "        255, 255, 247, 238, 235, 172,  72,   0,   0,   0,   0,   0,   0,   0],\n",
      "       dtype=torch.uint8)\n",
      "torch.Size([10000, 28, 28])\n"
     ]
    }
   ],
   "source": [
    "##test data\n",
    "print(test_data.classes) #클래스확인\n",
    "print(type(test_data))\n",
    "print(test_data.data[1,1])\n",
    "print(test_data.data.size()) #train set은 6만개의 28x28사이즈 이미지로 구성됨"
   ]
  },
  {
   "cell_type": "code",
   "execution_count": 17,
   "id": "54bf17f9-2ee7-4065-9eae-122d1e3636ff",
   "metadata": {},
   "outputs": [
    {
     "data": {
      "text/plain": [
       "{'Ankle boot': 6000,\n",
       " 'T-shirt/top': 6000,\n",
       " 'Dress': 6000,\n",
       " 'Pullover': 6000,\n",
       " 'Sneaker': 6000,\n",
       " 'Sandal': 6000,\n",
       " 'Trouser': 6000,\n",
       " 'Shirt': 6000,\n",
       " 'Coat': 6000,\n",
       " 'Bag': 6000}"
      ]
     },
     "execution_count": 17,
     "metadata": {},
     "output_type": "execute_result"
    }
   ],
   "source": [
    "##################train test class별 개수 구하기\n",
    "\n",
    "train_class_count=dict()\n",
    "\n",
    "\n",
    "for train_item in train_data:\n",
    "    label=train_data.classes[train_item[1]] #차례대로 첫번째부터 라벨값 추출\n",
    "    if label not in train_class_count: #\n",
    "        train_class_count[label]=1\n",
    "    else:\n",
    "        train_class_count[label] +=1\n",
    "        \n",
    "train_class_count"
   ]
  },
  {
   "cell_type": "code",
   "execution_count": 18,
   "id": "31c55b25-99b8-4997-8b97-d55d7f0050c3",
   "metadata": {},
   "outputs": [
    {
     "data": {
      "text/plain": [
       "{'Ankle boot': 1000,\n",
       " 'Pullover': 1000,\n",
       " 'Trouser': 1000,\n",
       " 'Shirt': 1000,\n",
       " 'Coat': 1000,\n",
       " 'Sandal': 1000,\n",
       " 'Sneaker': 1000,\n",
       " 'Dress': 1000,\n",
       " 'Bag': 1000,\n",
       " 'T-shirt/top': 1000}"
      ]
     },
     "execution_count": 18,
     "metadata": {},
     "output_type": "execute_result"
    }
   ],
   "source": [
    "##################train test class별 개수 구하기\n",
    "\n",
    "test_class_count=dict()\n",
    "\n",
    "\n",
    "for test_item in test_data:\n",
    "    label=test_data.classes[test_item[1]] #차례대로 첫번째부터 라벨값 추출\n",
    "    if label not in test_class_count: #\n",
    "        test_class_count[label]=1\n",
    "    else:\n",
    "        test_class_count[label] +=1\n",
    "        \n",
    "test_class_count"
   ]
  },
  {
   "cell_type": "code",
   "execution_count": 19,
   "id": "267c4a53-d9ce-4260-8c0b-e3767d30bf7f",
   "metadata": {},
   "outputs": [
    {
     "data": {
      "text/plain": [
       "'\\ntrain data-> class별로 6000개\\ntest data-> class별로 1000개\\n'"
      ]
     },
     "execution_count": 19,
     "metadata": {},
     "output_type": "execute_result"
    }
   ],
   "source": [
    "'''\n",
    "train data-> class별로 6000개\n",
    "test data-> class별로 1000개\n",
    "'''"
   ]
  },
  {
   "cell_type": "code",
   "execution_count": 20,
   "id": "9103b536-a550-48c4-8855-945aefd1b808",
   "metadata": {},
   "outputs": [],
   "source": [
    "#DATA LOADER"
   ]
  },
  {
   "cell_type": "code",
   "execution_count": 21,
   "id": "f8d33435-0eda-4432-8df7-3f3bad51eccc",
   "metadata": {},
   "outputs": [],
   "source": [
    "trainloader = torch.utils.data.DataLoader(train_data, batch_size=64, shuffle=True, num_workers=2) \n",
    "testloader = torch.utils.data.DataLoader(test_data, batch_size=64, shuffle=False, num_workers=2) "
   ]
  },
  {
   "cell_type": "code",
   "execution_count": 22,
   "id": "62b1c73f-416c-4d9a-9ad5-27fba384346e",
   "metadata": {
    "collapsed": true,
    "jupyter": {
     "outputs_hidden": true
    },
    "tags": []
   },
   "outputs": [
    {
     "name": "stdout",
     "output_type": "stream",
     "text": [
      "tensor([[[[-1.0000, -1.0000, -1.0000,  ..., -0.9765, -1.0000, -1.0000],\n",
      "          [-1.0000, -1.0000, -1.0000,  ..., -0.7333, -1.0000, -1.0000],\n",
      "          [-1.0000, -1.0000, -1.0000,  ..., -0.2235, -1.0000, -1.0000],\n",
      "          ...,\n",
      "          [-0.5216, -0.2784, -0.4118,  ..., -0.5373,  0.1451, -1.0000],\n",
      "          [-1.0000, -1.0000, -0.9843,  ..., -1.0000, -1.0000, -1.0000],\n",
      "          [-1.0000, -1.0000, -1.0000,  ..., -0.9765, -0.9765, -1.0000]]],\n",
      "\n",
      "\n",
      "        [[[-1.0000, -1.0000, -1.0000,  ..., -1.0000, -1.0000, -1.0000],\n",
      "          [-1.0000, -1.0000, -1.0000,  ..., -1.0000, -1.0000, -1.0000],\n",
      "          [-1.0000, -1.0000, -1.0000,  ..., -1.0000, -1.0000, -1.0000],\n",
      "          ...,\n",
      "          [-1.0000, -1.0000, -1.0000,  ..., -1.0000, -1.0000, -1.0000],\n",
      "          [-1.0000, -1.0000, -1.0000,  ..., -1.0000, -1.0000, -1.0000],\n",
      "          [-1.0000, -1.0000, -1.0000,  ..., -1.0000, -1.0000, -1.0000]]],\n",
      "\n",
      "\n",
      "        [[[-1.0000, -1.0000, -1.0000,  ..., -1.0000, -1.0000, -1.0000],\n",
      "          [-1.0000, -1.0000, -1.0000,  ..., -1.0000, -1.0000, -1.0000],\n",
      "          [-1.0000, -1.0000, -1.0000,  ..., -1.0000, -1.0000, -1.0000],\n",
      "          ...,\n",
      "          [-1.0000, -1.0000, -1.0000,  ..., -1.0000, -1.0000, -1.0000],\n",
      "          [-1.0000, -1.0000, -1.0000,  ..., -1.0000, -1.0000, -1.0000],\n",
      "          [-1.0000, -1.0000, -1.0000,  ..., -1.0000, -1.0000, -1.0000]]],\n",
      "\n",
      "\n",
      "        ...,\n",
      "\n",
      "\n",
      "        [[[-1.0000, -1.0000, -1.0000,  ..., -1.0000, -1.0000, -1.0000],\n",
      "          [-1.0000, -1.0000, -1.0000,  ..., -1.0000, -1.0000, -1.0000],\n",
      "          [-1.0000, -1.0000, -1.0000,  ..., -1.0000, -1.0000, -1.0000],\n",
      "          ...,\n",
      "          [-1.0000, -1.0000, -1.0000,  ..., -1.0000, -1.0000, -1.0000],\n",
      "          [-1.0000, -1.0000, -1.0000,  ..., -1.0000, -1.0000, -1.0000],\n",
      "          [-1.0000, -1.0000, -1.0000,  ..., -1.0000, -1.0000, -1.0000]]],\n",
      "\n",
      "\n",
      "        [[[-1.0000, -1.0000, -1.0000,  ..., -1.0000, -1.0000, -1.0000],\n",
      "          [-1.0000, -1.0000, -1.0000,  ..., -1.0000, -1.0000, -1.0000],\n",
      "          [-1.0000, -1.0000, -1.0000,  ..., -1.0000, -1.0000, -1.0000],\n",
      "          ...,\n",
      "          [-1.0000, -1.0000, -1.0000,  ..., -1.0000, -1.0000, -1.0000],\n",
      "          [-1.0000, -1.0000, -1.0000,  ..., -1.0000, -1.0000, -1.0000],\n",
      "          [-1.0000, -1.0000, -1.0000,  ..., -1.0000, -1.0000, -1.0000]]],\n",
      "\n",
      "\n",
      "        [[[-1.0000, -1.0000, -1.0000,  ..., -1.0000, -1.0000, -1.0000],\n",
      "          [-1.0000, -1.0000, -1.0000,  ..., -1.0000, -1.0000, -1.0000],\n",
      "          [-1.0000, -1.0000, -1.0000,  ..., -1.0000, -1.0000, -1.0000],\n",
      "          ...,\n",
      "          [-1.0000, -1.0000, -1.0000,  ..., -1.0000, -1.0000, -1.0000],\n",
      "          [-1.0000, -1.0000, -1.0000,  ..., -1.0000, -1.0000, -1.0000],\n",
      "          [-1.0000, -1.0000, -1.0000,  ..., -1.0000, -1.0000, -1.0000]]]])\n",
      "tensor([5, 1, 2, 0, 6, 3, 1, 5, 9, 4, 7, 6, 8, 3, 0, 7, 4, 1, 1, 2, 1, 3, 3, 9,\n",
      "        8, 7, 9, 0, 1, 3, 2, 0, 9, 8, 0, 7, 6, 7, 3, 1, 3, 7, 9, 2, 1, 1, 8, 9,\n",
      "        5, 5, 3, 9, 3, 2, 8, 7, 5, 4, 8, 5, 9, 5, 4, 4])\n"
     ]
    }
   ],
   "source": [
    "#Dataloader EDA\n",
    "#DataLoader를 통해 반복하기->이미지, 라벨 뽑아내기 EDA\n",
    "#이미지와 라벨값을 표시\n",
    "\n",
    "train_images, train_labels = next(iter(trainloader))\n",
    "print(train_images)\n",
    "print(train_labels)\n",
    "###batch size-> 64개에 대한 텐서값, 라벨값 추출"
   ]
  },
  {
   "cell_type": "code",
   "execution_count": 26,
   "id": "a32cc4f3-55f3-433c-87b2-7f8bdc04bd11",
   "metadata": {
    "collapsed": true,
    "jupyter": {
     "outputs_hidden": true
    },
    "tags": []
   },
   "outputs": [
    {
     "name": "stdout",
     "output_type": "stream",
     "text": [
      "Feature batch shape: torch.Size([64, 1, 28, 28])\n",
      "Labels batch shape: torch.Size([64])\n",
      "tensor([[-1.0000, -1.0000, -1.0000, -1.0000, -1.0000, -1.0000, -1.0000, -1.0000,\n",
      "         -1.0000, -1.0000, -1.0000, -1.0000, -1.0000, -0.9922, -1.0000, -0.9922,\n",
      "         -1.0000, -1.0000, -1.0000, -1.0000, -1.0000, -1.0000, -0.8980, -0.7098,\n",
      "         -0.1765, -0.9765, -1.0000, -1.0000],\n",
      "        [-1.0000, -1.0000, -1.0000, -1.0000, -1.0000, -1.0000, -1.0000, -1.0000,\n",
      "         -1.0000, -0.9922, -0.9843, -1.0000, -1.0000, -1.0000, -1.0000, -1.0000,\n",
      "         -1.0000, -1.0000, -0.8196, -0.6314, -0.0588, -0.1294, -0.4824, -0.6314,\n",
      "         -0.3020, -0.7333, -1.0000, -1.0000],\n",
      "        [-1.0000, -1.0000, -1.0000, -1.0000, -1.0000, -1.0000, -1.0000, -1.0000,\n",
      "         -1.0000, -1.0000, -1.0000, -1.0000, -1.0000, -0.6314, -0.2471,  0.2235,\n",
      "          0.1451,  0.3490,  0.1765, -0.1059, -0.1373, -0.2784, -0.8039, -1.0000,\n",
      "         -0.2471, -0.2235, -1.0000, -1.0000],\n",
      "        [-1.0000, -1.0000, -1.0000, -1.0000, -1.0000, -1.0000, -1.0000, -1.0000,\n",
      "         -1.0000, -1.0000, -0.7098, -0.6784, -0.8275,  0.0745, -0.1529, -0.1686,\n",
      "         -0.4431, -0.3882, -0.4824, -0.7569, -0.9843, -1.0000, -1.0000, -1.0000,\n",
      "         -1.0000, -0.2000, -1.0000, -1.0000],\n",
      "        [-1.0000, -1.0000, -1.0000, -1.0000, -1.0000, -1.0000, -1.0000, -1.0000,\n",
      "         -1.0000, -1.0000, -0.4118, -0.6314, -0.8196, -0.9294, -0.8824, -0.5294,\n",
      "         -0.5765, -0.6941, -1.0000, -1.0000, -1.0000, -0.9922, -1.0000, -1.0000,\n",
      "         -1.0000, -0.3490, -0.6941, -1.0000],\n",
      "        [-1.0000, -1.0000, -1.0000, -1.0000, -1.0000, -1.0000, -1.0000, -1.0000,\n",
      "         -1.0000, -1.0000, -0.6549, -0.2314, -0.3490, -0.6000,  0.0353, -0.8745,\n",
      "         -1.0000, -1.0000, -1.0000, -1.0000, -1.0000, -0.9843, -0.9922, -0.9843,\n",
      "         -1.0000, -0.7255, -0.2706, -1.0000],\n",
      "        [-1.0000, -1.0000, -1.0000, -1.0000, -1.0000, -1.0000, -1.0000, -1.0000,\n",
      "         -1.0000, -1.0000, -1.0000, -1.0000, -1.0000, -1.0000,  0.2706,  0.0667,\n",
      "         -1.0000, -0.9686, -1.0000, -1.0000, -1.0000, -0.9922, -1.0000, -0.9922,\n",
      "         -1.0000, -0.9765, -0.2392, -0.8510],\n",
      "        [-1.0000, -1.0000, -1.0000, -1.0000, -1.0000, -1.0000, -1.0000, -1.0000,\n",
      "         -1.0000, -0.9922, -0.9843, -1.0000, -1.0000, -0.9843, -0.1529, -0.0118,\n",
      "         -1.0000, -1.0000, -0.9922, -0.9765, -0.9843, -1.0000, -0.9922, -0.9922,\n",
      "         -1.0000, -1.0000, -0.2471, -0.7098],\n",
      "        [-1.0000, -1.0000, -1.0000, -1.0000, -1.0000, -1.0000, -1.0000, -1.0000,\n",
      "         -1.0000, -0.9922, -1.0000, -0.9922, -1.0000, -0.8588, -0.5686,  0.0902,\n",
      "         -0.5529, -1.0000, -1.0000, -1.0000, -1.0000, -1.0000, -1.0000, -1.0000,\n",
      "         -1.0000, -1.0000, -0.2314, -0.7020],\n",
      "        [-1.0000, -1.0000, -1.0000, -1.0000, -1.0000, -1.0000, -1.0000, -1.0000,\n",
      "         -1.0000, -0.9843, -0.9922, -1.0000, -1.0000, -0.8980, -0.2784, -0.0196,\n",
      "         -0.7490, -1.0000, -1.0000, -0.9843, -1.0000, -1.0000, -1.0000, -1.0000,\n",
      "         -1.0000, -0.8431, -0.2235, -0.7569],\n",
      "        [-1.0000, -1.0000, -1.0000, -1.0000, -1.0000, -1.0000, -1.0000, -1.0000,\n",
      "         -1.0000, -1.0000, -1.0000, -0.9843, -0.9843, -0.8667, -0.2235, -0.3490,\n",
      "          0.1686,  0.6941,  0.2235, -0.2314,  0.0510, -0.2549, -0.3804, -0.4039,\n",
      "         -0.7569, -0.1922,  0.1843, -0.7490],\n",
      "        [-1.0000, -1.0000, -1.0000, -1.0000, -1.0000, -1.0000, -1.0000, -1.0000,\n",
      "         -1.0000, -0.8745, -0.5843, -0.4431, -0.3569, -0.2314,  0.1137, -0.0588,\n",
      "          0.0588,  0.1216, -0.1922,  0.2235,  0.2000, -0.4118, -0.2784, -0.8431,\n",
      "         -0.3961, -0.3098, -0.6706, -0.7961],\n",
      "        [-1.0000, -1.0000, -1.0000, -1.0000, -1.0000, -1.0000, -0.9922, -1.0000,\n",
      "         -0.9686, -0.4039, -0.3490, -0.0667, -0.0275, -0.0118, -0.1059, -0.0196,\n",
      "          0.0980, -0.1922,  0.0510, -0.3882, -0.9294, -0.4824, -0.7490, -0.5059,\n",
      "         -0.2314, -0.9686, -0.8118, -0.7882],\n",
      "        [-1.0000, -1.0000, -1.0000, -1.0000, -1.0000, -1.0000, -0.9922, -1.0000,\n",
      "         -0.9686, -0.2000, -0.4980, -0.8118, -0.2549, -0.2000,  0.0039, -0.0510,\n",
      "         -0.0039,  0.1451, -0.4588, -0.9765, -0.4196, -0.5765, -0.2235, -0.4196,\n",
      "         -0.6392, -0.5843, -0.7098, -0.8588],\n",
      "        [-1.0000, -1.0000, -1.0000, -1.0000, -1.0000, -1.0000, -1.0000, -1.0000,\n",
      "         -1.0000, -0.9529, -0.9686, -0.9608,  0.3882, -0.1216,  0.2157,  0.0039,\n",
      "         -0.1922, -0.5216, -0.9922, -0.4431, -0.3882, -0.1373, -0.9765, -1.0000,\n",
      "         -1.0000, -0.5529, -0.7020, -0.8588],\n",
      "        [-1.0000, -1.0000, -1.0000, -1.0000, -1.0000, -1.0000, -0.9922, -0.9922,\n",
      "         -1.0000, -0.9843, -1.0000, -0.6784,  0.7569, -0.2314,  0.0196, -0.1216,\n",
      "         -0.0275, -0.1216, -0.9529, -0.4039, -0.1216, -1.0000, -1.0000, -0.9843,\n",
      "         -1.0000, -0.6941, -0.6392, -0.8745],\n",
      "        [-1.0000, -1.0000, -1.0000, -1.0000, -0.9843, -1.0000, -1.0000, -1.0000,\n",
      "         -1.0000, -1.0000, -1.0000, -0.2314, -0.0667,  0.0431,  1.0000, -0.7882,\n",
      "         -0.9843, -0.0510, -0.2235, -0.0588, -1.0000, -1.0000, -0.9843, -0.9922,\n",
      "         -1.0000, -0.6941, -0.5294, -0.9608],\n",
      "        [-1.0000, -1.0000, -1.0000, -1.0000, -0.9922, -0.9922, -0.9922, -1.0000,\n",
      "         -0.7255, -0.4588, -0.6392, -0.4510,  0.1765,  0.5451, -0.8118, -1.0000,\n",
      "         -0.8275, -0.6706,  0.0196, -1.0000, -1.0000, -0.9843, -0.9922, -0.9843,\n",
      "         -1.0000, -0.6863, -0.5922, -0.9922],\n",
      "        [-1.0000, -1.0000, -1.0000, -1.0000, -1.0000, -0.9843, -0.9922, -1.0000,\n",
      "         -0.5686, -0.2863, -0.3255, -0.3412, -0.0745, -0.3412, -0.2314, -0.1529,\n",
      "         -0.2863, -0.1843, -0.6314, -1.0000, -0.9922, -1.0000, -1.0000, -0.9922,\n",
      "         -1.0000, -0.5059, -0.5137, -1.0000],\n",
      "        [-1.0000, -1.0000, -1.0000, -1.0000, -1.0000, -1.0000, -1.0000, -1.0000,\n",
      "         -1.0000, -1.0000, -0.7961, -0.2314, -0.0745, -0.6706, -0.6314, -0.6941,\n",
      "          0.0588, -0.1529, -1.0000, -1.0000, -1.0000, -0.9922, -0.9922, -0.9765,\n",
      "         -1.0000, -0.2471, -0.2392, -1.0000],\n",
      "        [-1.0000, -1.0000, -0.9922, -0.9922, -1.0000, -0.9137, -0.6706, -0.4196,\n",
      "         -0.7569, -1.0000, -0.9608, -1.0000, -1.0000, -1.0000, -0.8667, -0.7412,\n",
      "         -0.1529, -0.6706, -1.0000, -1.0000, -1.0000, -1.0000, -1.0000, -0.9843,\n",
      "         -1.0000, -0.3333, -0.2863, -1.0000],\n",
      "        [-1.0000, -0.9922, -1.0000, -0.9922, -1.0000, -0.5686, -0.3490, -0.8588,\n",
      "         -0.7255, -1.0000, -1.0000, -1.0000, -1.0000, -1.0000, -0.5922, -0.3333,\n",
      "         -0.1686, -1.0000, -1.0000, -1.0000, -1.0000, -1.0000, -0.9922, -0.9922,\n",
      "         -1.0000, -0.4118, -0.4118, -1.0000],\n",
      "        [-0.9843, -0.9922, -1.0000, -1.0000, -1.0000, -0.8039, -0.1529, -1.0000,\n",
      "         -0.7412, -0.9843, -1.0000, -1.0000, -1.0000, -1.0000, -0.5608, -0.3569,\n",
      "         -0.5765, -1.0000, -1.0000, -1.0000, -1.0000, -1.0000, -1.0000, -0.9294,\n",
      "         -1.0000, -0.3490, -0.2235, -1.0000],\n",
      "        [-1.0000, -1.0000, -1.0000, -1.0000, -1.0000, -0.9922,  0.1843, -0.5137,\n",
      "         -0.8745, -0.7255, -0.9059, -0.9137, -0.9686, -0.4980, -0.5843, -0.0980,\n",
      "         -1.0000, -1.0000, -1.0000, -1.0000, -1.0000, -1.0000, -1.0000, -0.9686,\n",
      "         -1.0000, -0.5373, -0.3647, -1.0000],\n",
      "        [-0.6471, -0.5765, -0.7255, -0.6706, -0.7569, -0.8275,  0.4980,  0.1216,\n",
      "          0.2078,  0.2392, -0.6157, -0.3961, -0.2549, -0.5216, -0.1608, -0.6314,\n",
      "         -1.0000, -1.0000, -1.0000, -1.0000, -1.0000, -1.0000, -0.9843, -0.9529,\n",
      "         -1.0000, -0.6471, -0.3569, -1.0000],\n",
      "        [-0.5216, -0.2784, -0.4118, -0.3961, -0.3882, -0.5843, -0.4667, -0.3804,\n",
      "         -0.2549, -0.7882, -0.4667, -0.2706, -0.3098, -0.2471, -0.5922, -1.0000,\n",
      "         -0.9922, -1.0000, -1.0000, -1.0000, -1.0000, -1.0000, -1.0000, -0.9686,\n",
      "         -1.0000, -0.5373,  0.1451, -1.0000],\n",
      "        [-1.0000, -1.0000, -0.9843, -0.8745, -0.8118, -0.7255, -0.8039, -0.6549,\n",
      "         -0.6392, -0.4510, -0.3333, -0.4667, -0.7569, -0.8980, -1.0000, -1.0000,\n",
      "         -1.0000, -0.9922, -1.0000, -1.0000, -1.0000, -1.0000, -1.0000, -1.0000,\n",
      "         -1.0000, -1.0000, -1.0000, -1.0000],\n",
      "        [-1.0000, -1.0000, -1.0000, -1.0000, -1.0000, -1.0000, -1.0000, -1.0000,\n",
      "         -1.0000, -1.0000, -1.0000, -1.0000, -1.0000, -1.0000, -0.9843, -1.0000,\n",
      "         -1.0000, -0.9922, -1.0000, -1.0000, -1.0000, -1.0000, -1.0000, -1.0000,\n",
      "         -1.0000, -0.9765, -0.9765, -1.0000]])\n",
      "tensor(5)\n"
     ]
    }
   ],
   "source": [
    "print(f\"Feature batch shape: {train_images.size()}\") #f'문자열 {변수} 문자열' f-string 64x1x28x28->(batch_size,channel,image height,image weight\n",
    "print(f\"Labels batch shape: {train_labels.size()}\")\n",
    "img=train_images[0].squeeze() #channel=1 이기때문에 1인차원을 scalar로 변환 채널을 없애야함. 채널을 없애줘야 화면에 그릴수 있음\n",
    "label= train_labels[0] \n",
    "#이미지별 라벨별 사이즈. 이미지는 64x1x28x28 label=64개\n",
    "print(img)\n",
    "print(label)"
   ]
  },
  {
   "cell_type": "code",
   "execution_count": 35,
   "id": "b7dd8a0f-2ca1-42e5-8355-62f3b37c99bf",
   "metadata": {},
   "outputs": [
    {
     "data": {
      "image/png": "[encoded data removed]",
      "text/plain": [
       "<Figure size 432x288 with 1 Axes>"
      ]
     },
     "metadata": {
      "needs_background": "light"
     },
     "output_type": "display_data"
    },
    {
     "name": "stdout",
     "output_type": "stream",
     "text": [
      "Label:5\n",
      "Class name:Sandal\n"
     ]
    }
   ],
   "source": [
    "plt.imshow(img,cmap='gray')\n",
    "plt.show()\n",
    "print(f'Label:{label}')\n",
    "labeling=int(label)\n",
    "print(f'Class name:{labels_map[labeling]}')"
   ]
  },
  {
   "cell_type": "code",
   "execution_count": null,
   "id": "185745f2-8f90-4ff5-bdbc-30dd64ff2b86",
   "metadata": {},
   "outputs": [],
   "source": []
  }
 ],
 "metadata": {
  "kernelspec": {
   "display_name": "Python 3 (ipykernel)",
   "language": "python",
   "name": "python3"
  },
  "language_info": {
   "codemirror_mode": {
    "name": "ipython",
    "version": 3
   },
   "file_extension": ".py",
   "mimetype": "text/x-python",
   "name": "python",
   "nbconvert_exporter": "python",
   "pygments_lexer": "ipython3",
   "version": "3.7.13"
  }
 },
 "nbformat": 4,
 "nbformat_minor": 5
}
